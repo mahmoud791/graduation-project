{
 "cells": [
  {
   "cell_type": "markdown",
   "id": "9d40aea6",
   "metadata": {},
   "source": [
    "#                                               JNIRS CT"
   ]
  },
  {
   "cell_type": "markdown",
   "id": "347ee6f5",
   "metadata": {},
   "source": [
    "#### In this note book we will train a  model to predict the certain features in protien grains"
   ]
  },
  {
   "cell_type": "code",
   "execution_count": 1,
   "id": "17801137",
   "metadata": {},
   "outputs": [],
   "source": [
    "from sklearn.metrics import mean_squared_error\n",
    "import pandas as pd\n",
    "import numpy as np\n",
    "import nippy\n",
    "import peakutils\n",
    "from sklearn.multioutput import MultiOutputRegressor\n",
    "from sklearn.model_selection import train_test_split\n",
    "from sklearn.cross_decomposition import PLSRegression\n",
    "import math\n",
    "import matplotlib.pyplot as plt\n",
    "%matplotlib inline"
   ]
  },
  {
   "cell_type": "code",
   "execution_count": 2,
   "id": "f7c4ceb3",
   "metadata": {},
   "outputs": [],
   "source": [
    "specs1 = pd.read_csv(r'D:\\Gradution project\\datasets\\CGL\\x_train.csv')\n",
    "specs2 = pd.read_csv(r'D:\\Gradution project\\datasets\\CGL\\x_val.csv')\n",
    "specs3 = pd.read_csv(r'D:\\Gradution project\\datasets\\CGL\\x_test.csv')\n",
    "target1 = pd.read_csv(r'D:\\Gradution project\\datasets\\CGL\\y_train.csv')\n",
    "target2 = pd.read_csv(r'D:\\Gradution project\\datasets\\CGL\\y_val.csv')\n",
    "target3 = pd.read_csv(r'D:\\Gradution project\\datasets\\CGL\\y_test.csv')\n",
    "X = pd.concat([specs1,specs2,specs3], axis=0)\n",
    "y = pd.concat([target1,target2,target3], axis=0)"
   ]
  },
  {
   "cell_type": "code",
   "execution_count": 3,
   "id": "2adebe29",
   "metadata": {},
   "outputs": [],
   "source": [
    "X_train, X_test, y_train, y_test = train_test_split(X, y, test_size=0.2, random_state=123)"
   ]
  },
  {
   "cell_type": "code",
   "execution_count": 4,
   "id": "955aa925",
   "metadata": {},
   "outputs": [
    {
     "data": {
      "text/plain": [
       "Text(0, 0.5, 'absorbtion')"
      ]
     },
     "execution_count": 4,
     "metadata": {},
     "output_type": "execute_result"
    },
    {
     "data": {
      "image/png": "[encoded data removed]",
      "text/plain": [
       "<Figure size 432x288 with 1 Axes>"
      ]
     },
     "metadata": {
      "needs_background": "light"
     },
     "output_type": "display_data"
    }
   ],
   "source": [
    "X.iloc[0].plot()\n",
    "plt.xlabel('wavelengths')\n",
    "plt.ylabel('absorbtion')"
   ]
  },
  {
   "cell_type": "code",
   "execution_count": 5,
   "id": "d9952482",
   "metadata": {},
   "outputs": [
    {
     "data": {
      "text/html": [
       "<div>\n",
       "<style scoped>\n",
       "    .dataframe tbody tr th:only-of-type {\n",
       "        vertical-align: middle;\n",
       "    }\n",
       "\n",
       "    .dataframe tbody tr th {\n",
       "        vertical-align: top;\n",
       "    }\n",
       "\n",
       "    .dataframe thead th {\n",
       "        text-align: right;\n",
       "    }\n",
       "</style>\n",
       "<table border=\"1\" class=\"dataframe\">\n",
       "  <thead>\n",
       "    <tr style=\"text-align: right;\">\n",
       "      <th></th>\n",
       "      <th>1104</th>\n",
       "      <th>1116</th>\n",
       "      <th>1128</th>\n",
       "      <th>1140</th>\n",
       "      <th>1152</th>\n",
       "      <th>1164</th>\n",
       "      <th>1176</th>\n",
       "      <th>1188</th>\n",
       "      <th>1200</th>\n",
       "      <th>1212</th>\n",
       "      <th>...</th>\n",
       "      <th>2388</th>\n",
       "      <th>2400</th>\n",
       "      <th>2412</th>\n",
       "      <th>2424</th>\n",
       "      <th>2436</th>\n",
       "      <th>2448</th>\n",
       "      <th>2460</th>\n",
       "      <th>2472</th>\n",
       "      <th>2484</th>\n",
       "      <th>2496</th>\n",
       "    </tr>\n",
       "  </thead>\n",
       "  <tbody>\n",
       "    <tr>\n",
       "      <th>count</th>\n",
       "      <td>462.000000</td>\n",
       "      <td>462.000000</td>\n",
       "      <td>462.000000</td>\n",
       "      <td>462.000000</td>\n",
       "      <td>462.000000</td>\n",
       "      <td>462.000000</td>\n",
       "      <td>462.000000</td>\n",
       "      <td>462.000000</td>\n",
       "      <td>462.000000</td>\n",
       "      <td>462.000000</td>\n",
       "      <td>...</td>\n",
       "      <td>462.000000</td>\n",
       "      <td>462.000000</td>\n",
       "      <td>462.000000</td>\n",
       "      <td>462.000000</td>\n",
       "      <td>462.000000</td>\n",
       "      <td>462.000000</td>\n",
       "      <td>462.000000</td>\n",
       "      <td>462.000000</td>\n",
       "      <td>462.000000</td>\n",
       "      <td>462.000000</td>\n",
       "    </tr>\n",
       "    <tr>\n",
       "      <th>mean</th>\n",
       "      <td>0.149996</td>\n",
       "      <td>0.147944</td>\n",
       "      <td>0.148854</td>\n",
       "      <td>0.153572</td>\n",
       "      <td>0.158067</td>\n",
       "      <td>0.165654</td>\n",
       "      <td>0.173914</td>\n",
       "      <td>0.177523</td>\n",
       "      <td>0.173288</td>\n",
       "      <td>0.169520</td>\n",
       "      <td>...</td>\n",
       "      <td>0.543466</td>\n",
       "      <td>0.547416</td>\n",
       "      <td>0.560574</td>\n",
       "      <td>0.579057</td>\n",
       "      <td>0.601565</td>\n",
       "      <td>0.628049</td>\n",
       "      <td>0.659186</td>\n",
       "      <td>0.672735</td>\n",
       "      <td>0.669360</td>\n",
       "      <td>0.668493</td>\n",
       "    </tr>\n",
       "    <tr>\n",
       "      <th>std</th>\n",
       "      <td>0.007185</td>\n",
       "      <td>0.006349</td>\n",
       "      <td>0.005527</td>\n",
       "      <td>0.006060</td>\n",
       "      <td>0.007415</td>\n",
       "      <td>0.008798</td>\n",
       "      <td>0.011680</td>\n",
       "      <td>0.015175</td>\n",
       "      <td>0.014917</td>\n",
       "      <td>0.014225</td>\n",
       "      <td>...</td>\n",
       "      <td>0.063907</td>\n",
       "      <td>0.060956</td>\n",
       "      <td>0.063533</td>\n",
       "      <td>0.066476</td>\n",
       "      <td>0.070495</td>\n",
       "      <td>0.079041</td>\n",
       "      <td>0.096873</td>\n",
       "      <td>0.101072</td>\n",
       "      <td>0.098495</td>\n",
       "      <td>0.101787</td>\n",
       "    </tr>\n",
       "    <tr>\n",
       "      <th>min</th>\n",
       "      <td>0.140920</td>\n",
       "      <td>0.139660</td>\n",
       "      <td>0.140900</td>\n",
       "      <td>0.143490</td>\n",
       "      <td>0.145380</td>\n",
       "      <td>0.150570</td>\n",
       "      <td>0.153640</td>\n",
       "      <td>0.150860</td>\n",
       "      <td>0.147980</td>\n",
       "      <td>0.147450</td>\n",
       "      <td>...</td>\n",
       "      <td>0.417450</td>\n",
       "      <td>0.428190</td>\n",
       "      <td>0.439020</td>\n",
       "      <td>0.456490</td>\n",
       "      <td>0.477120</td>\n",
       "      <td>0.490600</td>\n",
       "      <td>0.494450</td>\n",
       "      <td>0.504640</td>\n",
       "      <td>0.507670</td>\n",
       "      <td>0.500560</td>\n",
       "    </tr>\n",
       "    <tr>\n",
       "      <th>25%</th>\n",
       "      <td>0.144638</td>\n",
       "      <td>0.143122</td>\n",
       "      <td>0.144930</td>\n",
       "      <td>0.148075</td>\n",
       "      <td>0.151365</td>\n",
       "      <td>0.157755</td>\n",
       "      <td>0.163725</td>\n",
       "      <td>0.165130</td>\n",
       "      <td>0.161125</td>\n",
       "      <td>0.159000</td>\n",
       "      <td>...</td>\n",
       "      <td>0.492790</td>\n",
       "      <td>0.499205</td>\n",
       "      <td>0.511540</td>\n",
       "      <td>0.528613</td>\n",
       "      <td>0.547828</td>\n",
       "      <td>0.569220</td>\n",
       "      <td>0.588020</td>\n",
       "      <td>0.599175</td>\n",
       "      <td>0.597538</td>\n",
       "      <td>0.594855</td>\n",
       "    </tr>\n",
       "    <tr>\n",
       "      <th>50%</th>\n",
       "      <td>0.148080</td>\n",
       "      <td>0.146260</td>\n",
       "      <td>0.147640</td>\n",
       "      <td>0.152830</td>\n",
       "      <td>0.157450</td>\n",
       "      <td>0.164900</td>\n",
       "      <td>0.172970</td>\n",
       "      <td>0.176150</td>\n",
       "      <td>0.171620</td>\n",
       "      <td>0.167220</td>\n",
       "      <td>...</td>\n",
       "      <td>0.545230</td>\n",
       "      <td>0.548850</td>\n",
       "      <td>0.559610</td>\n",
       "      <td>0.576680</td>\n",
       "      <td>0.596070</td>\n",
       "      <td>0.619310</td>\n",
       "      <td>0.646790</td>\n",
       "      <td>0.658810</td>\n",
       "      <td>0.654000</td>\n",
       "      <td>0.652450</td>\n",
       "    </tr>\n",
       "    <tr>\n",
       "      <th>75%</th>\n",
       "      <td>0.153403</td>\n",
       "      <td>0.150828</td>\n",
       "      <td>0.151618</td>\n",
       "      <td>0.157510</td>\n",
       "      <td>0.163540</td>\n",
       "      <td>0.172220</td>\n",
       "      <td>0.182773</td>\n",
       "      <td>0.188485</td>\n",
       "      <td>0.183138</td>\n",
       "      <td>0.177500</td>\n",
       "      <td>...</td>\n",
       "      <td>0.587955</td>\n",
       "      <td>0.589475</td>\n",
       "      <td>0.600272</td>\n",
       "      <td>0.619468</td>\n",
       "      <td>0.641253</td>\n",
       "      <td>0.671885</td>\n",
       "      <td>0.711413</td>\n",
       "      <td>0.729880</td>\n",
       "      <td>0.723707</td>\n",
       "      <td>0.725108</td>\n",
       "    </tr>\n",
       "    <tr>\n",
       "      <th>max</th>\n",
       "      <td>0.177840</td>\n",
       "      <td>0.172730</td>\n",
       "      <td>0.169600</td>\n",
       "      <td>0.171600</td>\n",
       "      <td>0.178260</td>\n",
       "      <td>0.189610</td>\n",
       "      <td>0.205310</td>\n",
       "      <td>0.220920</td>\n",
       "      <td>0.219220</td>\n",
       "      <td>0.218360</td>\n",
       "      <td>...</td>\n",
       "      <td>0.708130</td>\n",
       "      <td>0.706050</td>\n",
       "      <td>0.735270</td>\n",
       "      <td>0.772670</td>\n",
       "      <td>0.816860</td>\n",
       "      <td>0.873110</td>\n",
       "      <td>0.967670</td>\n",
       "      <td>0.998290</td>\n",
       "      <td>0.987920</td>\n",
       "      <td>0.997300</td>\n",
       "    </tr>\n",
       "  </tbody>\n",
       "</table>\n",
       "<p>8 rows × 117 columns</p>\n",
       "</div>"
      ],
      "text/plain": [
       "             1104        1116        1128        1140        1152        1164  \\\n",
       "count  462.000000  462.000000  462.000000  462.000000  462.000000  462.000000   \n",
       "mean     0.149996    0.147944    0.148854    0.153572    0.158067    0.165654   \n",
       "std      0.007185    0.006349    0.005527    0.006060    0.007415    0.008798   \n",
       "min      0.140920    0.139660    0.140900    0.143490    0.145380    0.150570   \n",
       "25%      0.144638    0.143122    0.144930    0.148075    0.151365    0.157755   \n",
       "50%      0.148080    0.146260    0.147640    0.152830    0.157450    0.164900   \n",
       "75%      0.153403    0.150828    0.151618    0.157510    0.163540    0.172220   \n",
       "max      0.177840    0.172730    0.169600    0.171600    0.178260    0.189610   \n",
       "\n",
       "             1176        1188        1200        1212  ...        2388  \\\n",
       "count  462.000000  462.000000  462.000000  462.000000  ...  462.000000   \n",
       "mean     0.173914    0.177523    0.173288    0.169520  ...    0.543466   \n",
       "std      0.011680    0.015175    0.014917    0.014225  ...    0.063907   \n",
       "min      0.153640    0.150860    0.147980    0.147450  ...    0.417450   \n",
       "25%      0.163725    0.165130    0.161125    0.159000  ...    0.492790   \n",
       "50%      0.172970    0.176150    0.171620    0.167220  ...    0.545230   \n",
       "75%      0.182773    0.188485    0.183138    0.177500  ...    0.587955   \n",
       "max      0.205310    0.220920    0.219220    0.218360  ...    0.708130   \n",
       "\n",
       "             2400        2412        2424        2436        2448        2460  \\\n",
       "count  462.000000  462.000000  462.000000  462.000000  462.000000  462.000000   \n",
       "mean     0.547416    0.560574    0.579057    0.601565    0.628049    0.659186   \n",
       "std      0.060956    0.063533    0.066476    0.070495    0.079041    0.096873   \n",
       "min      0.428190    0.439020    0.456490    0.477120    0.490600    0.494450   \n",
       "25%      0.499205    0.511540    0.528613    0.547828    0.569220    0.588020   \n",
       "50%      0.548850    0.559610    0.576680    0.596070    0.619310    0.646790   \n",
       "75%      0.589475    0.600272    0.619468    0.641253    0.671885    0.711413   \n",
       "max      0.706050    0.735270    0.772670    0.816860    0.873110    0.967670   \n",
       "\n",
       "             2472        2484        2496  \n",
       "count  462.000000  462.000000  462.000000  \n",
       "mean     0.672735    0.669360    0.668493  \n",
       "std      0.101072    0.098495    0.101787  \n",
       "min      0.504640    0.507670    0.500560  \n",
       "25%      0.599175    0.597538    0.594855  \n",
       "50%      0.658810    0.654000    0.652450  \n",
       "75%      0.729880    0.723707    0.725108  \n",
       "max      0.998290    0.987920    0.997300  \n",
       "\n",
       "[8 rows x 117 columns]"
      ]
     },
     "execution_count": 5,
     "metadata": {},
     "output_type": "execute_result"
    }
   ],
   "source": [
    "X.describe()"
   ]
  },
  {
   "cell_type": "code",
   "execution_count": 6,
   "id": "2a8c0740",
   "metadata": {},
   "outputs": [
    {
     "data": {
      "text/html": [
       "<div>\n",
       "<style scoped>\n",
       "    .dataframe tbody tr th:only-of-type {\n",
       "        vertical-align: middle;\n",
       "    }\n",
       "\n",
       "    .dataframe tbody tr th {\n",
       "        vertical-align: top;\n",
       "    }\n",
       "\n",
       "    .dataframe thead th {\n",
       "        text-align: right;\n",
       "    }\n",
       "</style>\n",
       "<table border=\"1\" class=\"dataframe\">\n",
       "  <thead>\n",
       "    <tr style=\"text-align: right;\">\n",
       "      <th></th>\n",
       "      <th>ceasian</th>\n",
       "      <th>glucose</th>\n",
       "      <th>lactate</th>\n",
       "      <th>moisture</th>\n",
       "    </tr>\n",
       "  </thead>\n",
       "  <tbody>\n",
       "    <tr>\n",
       "      <th>count</th>\n",
       "      <td>462.000000</td>\n",
       "      <td>462.000000</td>\n",
       "      <td>462.000000</td>\n",
       "      <td>462.000000</td>\n",
       "    </tr>\n",
       "    <tr>\n",
       "      <th>mean</th>\n",
       "      <td>29.611126</td>\n",
       "      <td>30.499134</td>\n",
       "      <td>25.235931</td>\n",
       "      <td>12.696667</td>\n",
       "    </tr>\n",
       "    <tr>\n",
       "      <th>std</th>\n",
       "      <td>22.469315</td>\n",
       "      <td>23.145781</td>\n",
       "      <td>19.151273</td>\n",
       "      <td>4.454427</td>\n",
       "    </tr>\n",
       "    <tr>\n",
       "      <th>min</th>\n",
       "      <td>0.000000</td>\n",
       "      <td>0.000000</td>\n",
       "      <td>0.000000</td>\n",
       "      <td>5.300000</td>\n",
       "    </tr>\n",
       "    <tr>\n",
       "      <th>25%</th>\n",
       "      <td>8.900000</td>\n",
       "      <td>9.162500</td>\n",
       "      <td>7.580000</td>\n",
       "      <td>9.102500</td>\n",
       "    </tr>\n",
       "    <tr>\n",
       "      <th>50%</th>\n",
       "      <td>26.650000</td>\n",
       "      <td>27.450000</td>\n",
       "      <td>22.710000</td>\n",
       "      <td>11.970000</td>\n",
       "    </tr>\n",
       "    <tr>\n",
       "      <th>75%</th>\n",
       "      <td>44.420000</td>\n",
       "      <td>45.747500</td>\n",
       "      <td>37.850000</td>\n",
       "      <td>15.862500</td>\n",
       "    </tr>\n",
       "    <tr>\n",
       "      <th>max</th>\n",
       "      <td>88.830000</td>\n",
       "      <td>91.500000</td>\n",
       "      <td>75.710000</td>\n",
       "      <td>24.290000</td>\n",
       "    </tr>\n",
       "  </tbody>\n",
       "</table>\n",
       "</div>"
      ],
      "text/plain": [
       "          ceasian     glucose     lactate    moisture\n",
       "count  462.000000  462.000000  462.000000  462.000000\n",
       "mean    29.611126   30.499134   25.235931   12.696667\n",
       "std     22.469315   23.145781   19.151273    4.454427\n",
       "min      0.000000    0.000000    0.000000    5.300000\n",
       "25%      8.900000    9.162500    7.580000    9.102500\n",
       "50%     26.650000   27.450000   22.710000   11.970000\n",
       "75%     44.420000   45.747500   37.850000   15.862500\n",
       "max     88.830000   91.500000   75.710000   24.290000"
      ]
     },
     "execution_count": 6,
     "metadata": {},
     "output_type": "execute_result"
    }
   ],
   "source": [
    "y.describe()"
   ]
  },
  {
   "cell_type": "code",
   "execution_count": 7,
   "id": "ced492c6",
   "metadata": {},
   "outputs": [
    {
     "data": {
      "text/plain": [
       "PLSRegression(n_components=28)"
      ]
     },
     "execution_count": 7,
     "metadata": {},
     "output_type": "execute_result"
    }
   ],
   "source": [
    "pls = PLSRegression(n_components=28)\n",
    "pls.fit(X_train , y_train)"
   ]
  },
  {
   "cell_type": "code",
   "execution_count": 8,
   "id": "56b2c5ad",
   "metadata": {},
   "outputs": [
    {
     "name": "stdout",
     "output_type": "stream",
     "text": [
      "RMSE: 0.260264\n",
      "R^2: 0.999814\n"
     ]
    }
   ],
   "source": [
    "preds = pls.predict(X_test)\n",
    "rmse = np.sqrt(mean_squared_error(y_test, preds))\n",
    "R_squared = pls.score(X_test,y_test)\n",
    "\n",
    "print(\"RMSE: %f\" % (rmse))\n",
    "print(\"R^2: %f\" % (R_squared))"
   ]
  },
  {
   "cell_type": "markdown",
   "id": "972b404e",
   "metadata": {},
   "source": [
    "# JNIRS"
   ]
  },
  {
   "cell_type": "code",
   "execution_count": 50,
   "id": "0ca40b2f",
   "metadata": {},
   "outputs": [],
   "source": [
    "def PolyCoefficients(values, coeffs):\n",
    "    \"\"\" Returns a polynomial for ``x`` values for the ``coeffs`` provided.\n",
    "\n",
    "    The coefficients must be in ascending order (``x**0`` to ``x**o``).\n",
    "    \"\"\"\n",
    "    o = len(coeffs)\n",
    "    y = np.zeros(values)\n",
    "    x = np.array(range(values))\n",
    "    \n",
    "    for i in range(o):\n",
    "        y = y + coeffs[i]*x**i\n",
    "        \n",
    "    return y"
   ]
  },
  {
   "cell_type": "code",
   "execution_count": 51,
   "id": "eb545f0a",
   "metadata": {},
   "outputs": [],
   "source": [
    "def addnoise(dataframe,noise_standardDeviation,noise_coeff,baseline_coeff):\n",
    "    specs = dataframe\n",
    "    columns = list(specs.columns)\n",
    "    specs = specs.to_numpy()\n",
    "    noise_poly = PolyCoefficients(specs.shape[1], noise_coeff)\n",
    "    baseline = PolyCoefficients(specs.shape[1], baseline_coeff)\n",
    "    \n",
    "    for i in range(specs.shape[0]):\n",
    "        specs[i] = specs[i] + (np.random.normal(0, noise_standardDeviation, specs.shape[1])*noise_poly)\n",
    "        specs[i] = specs[i] + baseline\n",
    "    \n",
    "    \n",
    "    specs = pd.DataFrame(specs,columns=columns)\n",
    "    return specs  "
   ]
  },
  {
   "cell_type": "code",
   "execution_count": 52,
   "id": "2d344269",
   "metadata": {},
   "outputs": [],
   "source": [
    "def addnoise2(df,snr):\n",
    "    \n",
    "    temp = df.copy()      #make a separate df copy\n",
    "    columns = list(temp.columns)     #save columns for restoration\n",
    "    temp = temp.to_numpy()      #convert to numpy\n",
    "    for idx,signal in enumerate(temp):\n",
    "        \n",
    "        #calculate average signal power\n",
    "        sigpower=sum([math.pow(abs(signal[i]),2) for i in range(len(signal))])\n",
    "        sigpower=sigpower/len(signal)\n",
    "        \n",
    "        #calculate noise power using signal to noise ratio\n",
    "        noisepower=sigpower/(math.pow(10,snr/10))\n",
    "        noise=math.sqrt(noisepower)*(np.random.uniform(-1,1,size=len(signal)))\n",
    "        \n",
    "        #add noise to origonal signal\n",
    "        signal = signal + noise\n",
    "        temp[idx] = signal\n",
    "        \n",
    "    temp = pd.DataFrame(temp,columns=columns)\n",
    "    return temp"
   ]
  },
  {
   "cell_type": "code",
   "execution_count": 9,
   "id": "c5e6d472",
   "metadata": {},
   "outputs": [],
   "source": [
    "def addnoise3(df,snr):\n",
    "    specs = df.copy()\n",
    "    columns = list(specs.columns)\n",
    "    specs = specs.to_numpy()\n",
    "    noise_standardDeviation = 1/math.pow(10,(snr/10))\n",
    "    for i in range(specs.shape[0]):\n",
    "        specs[i] = specs[i] + np.random.normal(0, noise_standardDeviation, specs.shape[1])\n",
    "        \n",
    "    specs = pd.DataFrame(specs,columns=columns)\n",
    "    return specs    "
   ]
  },
  {
   "cell_type": "markdown",
   "id": "3b7e319f",
   "metadata": {},
   "source": [
    "Split our data in half , to be half master then apply some noise on second half to be slave"
   ]
  },
  {
   "cell_type": "code",
   "execution_count": 10,
   "id": "8c689293",
   "metadata": {},
   "outputs": [],
   "source": [
    "X1 = X[:231]\n",
    "y1 = y[:231]\n",
    "X2 = X[231:]\n",
    "y2 = y[231:]\n",
    "master = X1.copy(deep=True)"
   ]
  },
  {
   "cell_type": "markdown",
   "id": "0077f43a",
   "metadata": {},
   "source": [
    "add noise to second half to be slave, then test how the model would perform with the slave"
   ]
  },
  {
   "cell_type": "code",
   "execution_count": 23,
   "id": "4a8f7d22",
   "metadata": {},
   "outputs": [
    {
     "data": {
      "text/plain": [
       "<AxesSubplot:>"
      ]
     },
     "execution_count": 23,
     "metadata": {},
     "output_type": "execute_result"
    },
    {
     "data": {
      "image/png": "[encoded data removed]",
      "text/plain": [
       "<Figure size 432x288 with 1 Axes>"
      ]
     },
     "metadata": {
      "needs_background": "light"
     },
     "output_type": "display_data"
    }
   ],
   "source": [
    "slave = addnoise3(X2.copy(deep=True),40)\n",
    "slave.iloc[0].plot()"
   ]
  },
  {
   "cell_type": "code",
   "execution_count": 24,
   "id": "4d5ac630",
   "metadata": {},
   "outputs": [
    {
     "name": "stdout",
     "output_type": "stream",
     "text": [
      "RMSE: 1.471567\n",
      "R^2: 0.992773\n"
     ]
    }
   ],
   "source": [
    "preds = pls.predict(slave)\n",
    "rmse = np.sqrt(mean_squared_error(y2, preds))\n",
    "R_squared = pls.score(slave,y2)\n",
    "\n",
    "print(\"RMSE: %f\" % (rmse))\n",
    "print(\"R^2: %f\" % (R_squared))"
   ]
  },
  {
   "cell_type": "markdown",
   "id": "1b14aed6",
   "metadata": {},
   "source": [
    "## implementing the correction model "
   ]
  },
  {
   "cell_type": "code",
   "execution_count": 14,
   "id": "94634bfa",
   "metadata": {},
   "outputs": [
    {
     "data": {
      "text/plain": [
       "(200, 4)"
      ]
     },
     "execution_count": 14,
     "metadata": {},
     "output_type": "execute_result"
    }
   ],
   "source": [
    "delta_y = y2[:200].to_numpy()-preds[:200] \n",
    "delta_y.shape"
   ]
  },
  {
   "cell_type": "code",
   "execution_count": 15,
   "id": "4bea2616",
   "metadata": {},
   "outputs": [
    {
     "data": {
      "text/plain": [
       "(200, 117)"
      ]
     },
     "execution_count": 15,
     "metadata": {},
     "output_type": "execute_result"
    }
   ],
   "source": [
    "term1 = np.matmul(master.to_numpy().T , master.to_numpy())\n",
    "delta_x  = slave[:200].to_numpy() -  np.matmul(slave[:200].to_numpy() , term1) \n",
    "delta_x.shape"
   ]
  },
  {
   "cell_type": "code",
   "execution_count": 16,
   "id": "731f0e94",
   "metadata": {},
   "outputs": [
    {
     "data": {
      "text/plain": [
       "PLSRegression(n_components=70)"
      ]
     },
     "execution_count": 16,
     "metadata": {},
     "output_type": "execute_result"
    }
   ],
   "source": [
    "pls2 = PLSRegression(n_components=70)\n",
    "pls2.fit(delta_x , delta_y)"
   ]
  },
  {
   "cell_type": "code",
   "execution_count": 17,
   "id": "c166f97b",
   "metadata": {},
   "outputs": [],
   "source": [
    "term2 = np.matmul(slave[200:],(np.identity(term1.shape[0]) - term1))"
   ]
  },
  {
   "cell_type": "code",
   "execution_count": 18,
   "id": "c300967c",
   "metadata": {},
   "outputs": [
    {
     "name": "stderr",
     "output_type": "stream",
     "text": [
      "C:\\Users\\Mahmoud\\anaconda3\\lib\\site-packages\\sklearn\\base.py:438: UserWarning: X has feature names, but PLSRegression was fitted without feature names\n",
      "  warnings.warn(\n"
     ]
    },
    {
     "data": {
      "text/plain": [
       "(31, 4)"
      ]
     },
     "execution_count": 18,
     "metadata": {},
     "output_type": "execute_result"
    }
   ],
   "source": [
    "new_preds = pls.predict(slave[200:]) + pls2.predict(term2)\n",
    "new_preds.shape"
   ]
  },
  {
   "cell_type": "code",
   "execution_count": 19,
   "id": "8eec854d",
   "metadata": {},
   "outputs": [
    {
     "name": "stdout",
     "output_type": "stream",
     "text": [
      "RMSE: 5.609814\n"
     ]
    }
   ],
   "source": [
    "rmse = np.sqrt(mean_squared_error(y2[200:], new_preds))\n",
    "\n",
    "print(\"RMSE: %f\" % (rmse))"
   ]
  },
  {
   "cell_type": "code",
   "execution_count": 20,
   "id": "b19235c8",
   "metadata": {},
   "outputs": [],
   "source": [
    "SNRs = [i for i in np.arange(10,80,0.5)]"
   ]
  },
  {
   "cell_type": "code",
   "execution_count": 21,
   "id": "08f8ccae",
   "metadata": {},
   "outputs": [
    {
     "name": "stderr",
     "output_type": "stream",
     "text": [
      "C:\\Users\\Mahmoud\\anaconda3\\lib\\site-packages\\sklearn\\base.py:438: UserWarning: X has feature names, but PLSRegression was fitted without feature names\n",
      "  warnings.warn(\n",
      "C:\\Users\\Mahmoud\\anaconda3\\lib\\site-packages\\sklearn\\base.py:438: UserWarning: X has feature names, but PLSRegression was fitted without feature names\n",
      "  warnings.warn(\n",
      "C:\\Users\\Mahmoud\\anaconda3\\lib\\site-packages\\sklearn\\base.py:438: UserWarning: X has feature names, but PLSRegression was fitted without feature names\n",
      "  warnings.warn(\n",
      "C:\\Users\\Mahmoud\\anaconda3\\lib\\site-packages\\sklearn\\base.py:438: UserWarning: X has feature names, but PLSRegression was fitted without feature names\n",
      "  warnings.warn(\n",
      "C:\\Users\\Mahmoud\\anaconda3\\lib\\site-packages\\sklearn\\base.py:438: UserWarning: X has feature names, but PLSRegression was fitted without feature names\n",
      "  warnings.warn(\n",
      "C:\\Users\\Mahmoud\\anaconda3\\lib\\site-packages\\sklearn\\base.py:438: UserWarning: X has feature names, but PLSRegression was fitted without feature names\n",
      "  warnings.warn(\n",
      "C:\\Users\\Mahmoud\\anaconda3\\lib\\site-packages\\sklearn\\base.py:438: UserWarning: X has feature names, but PLSRegression was fitted without feature names\n",
      "  warnings.warn(\n",
      "C:\\Users\\Mahmoud\\anaconda3\\lib\\site-packages\\sklearn\\base.py:438: UserWarning: X has feature names, but PLSRegression was fitted without feature names\n",
      "  warnings.warn(\n",
      "C:\\Users\\Mahmoud\\anaconda3\\lib\\site-packages\\sklearn\\base.py:438: UserWarning: X has feature names, but PLSRegression was fitted without feature names\n",
      "  warnings.warn(\n",
      "C:\\Users\\Mahmoud\\anaconda3\\lib\\site-packages\\sklearn\\base.py:438: UserWarning: X has feature names, but PLSRegression was fitted without feature names\n",
      "  warnings.warn(\n",
      "C:\\Users\\Mahmoud\\anaconda3\\lib\\site-packages\\sklearn\\base.py:438: UserWarning: X has feature names, but PLSRegression was fitted without feature names\n",
      "  warnings.warn(\n",
      "C:\\Users\\Mahmoud\\anaconda3\\lib\\site-packages\\sklearn\\base.py:438: UserWarning: X has feature names, but PLSRegression was fitted without feature names\n",
      "  warnings.warn(\n",
      "C:\\Users\\Mahmoud\\anaconda3\\lib\\site-packages\\sklearn\\base.py:438: UserWarning: X has feature names, but PLSRegression was fitted without feature names\n",
      "  warnings.warn(\n",
      "C:\\Users\\Mahmoud\\anaconda3\\lib\\site-packages\\sklearn\\base.py:438: UserWarning: X has feature names, but PLSRegression was fitted without feature names\n",
      "  warnings.warn(\n",
      "C:\\Users\\Mahmoud\\anaconda3\\lib\\site-packages\\sklearn\\base.py:438: UserWarning: X has feature names, but PLSRegression was fitted without feature names\n",
      "  warnings.warn(\n",
      "C:\\Users\\Mahmoud\\anaconda3\\lib\\site-packages\\sklearn\\base.py:438: UserWarning: X has feature names, but PLSRegression was fitted without feature names\n",
      "  warnings.warn(\n",
      "C:\\Users\\Mahmoud\\anaconda3\\lib\\site-packages\\sklearn\\base.py:438: UserWarning: X has feature names, but PLSRegression was fitted without feature names\n",
      "  warnings.warn(\n",
      "C:\\Users\\Mahmoud\\anaconda3\\lib\\site-packages\\sklearn\\base.py:438: UserWarning: X has feature names, but PLSRegression was fitted without feature names\n",
      "  warnings.warn(\n",
      "C:\\Users\\Mahmoud\\anaconda3\\lib\\site-packages\\sklearn\\base.py:438: UserWarning: X has feature names, but PLSRegression was fitted without feature names\n",
      "  warnings.warn(\n",
      "C:\\Users\\Mahmoud\\anaconda3\\lib\\site-packages\\sklearn\\base.py:438: UserWarning: X has feature names, but PLSRegression was fitted without feature names\n",
      "  warnings.warn(\n",
      "C:\\Users\\Mahmoud\\anaconda3\\lib\\site-packages\\sklearn\\base.py:438: UserWarning: X has feature names, but PLSRegression was fitted without feature names\n",
      "  warnings.warn(\n",
      "C:\\Users\\Mahmoud\\anaconda3\\lib\\site-packages\\sklearn\\base.py:438: UserWarning: X has feature names, but PLSRegression was fitted without feature names\n",
      "  warnings.warn(\n",
      "C:\\Users\\Mahmoud\\anaconda3\\lib\\site-packages\\sklearn\\base.py:438: UserWarning: X has feature names, but PLSRegression was fitted without feature names\n",
      "  warnings.warn(\n",
      "C:\\Users\\Mahmoud\\anaconda3\\lib\\site-packages\\sklearn\\base.py:438: UserWarning: X has feature names, but PLSRegression was fitted without feature names\n",
      "  warnings.warn(\n",
      "C:\\Users\\Mahmoud\\anaconda3\\lib\\site-packages\\sklearn\\base.py:438: UserWarning: X has feature names, but PLSRegression was fitted without feature names\n",
      "  warnings.warn(\n",
      "C:\\Users\\Mahmoud\\anaconda3\\lib\\site-packages\\sklearn\\base.py:438: UserWarning: X has feature names, but PLSRegression was fitted without feature names\n",
      "  warnings.warn(\n",
      "C:\\Users\\Mahmoud\\anaconda3\\lib\\site-packages\\sklearn\\base.py:438: UserWarning: X has feature names, but PLSRegression was fitted without feature names\n",
      "  warnings.warn(\n",
      "C:\\Users\\Mahmoud\\anaconda3\\lib\\site-packages\\sklearn\\base.py:438: UserWarning: X has feature names, but PLSRegression was fitted without feature names\n",
      "  warnings.warn(\n",
      "C:\\Users\\Mahmoud\\anaconda3\\lib\\site-packages\\sklearn\\base.py:438: UserWarning: X has feature names, but PLSRegression was fitted without feature names\n",
      "  warnings.warn(\n",
      "C:\\Users\\Mahmoud\\anaconda3\\lib\\site-packages\\sklearn\\base.py:438: UserWarning: X has feature names, but PLSRegression was fitted without feature names\n",
      "  warnings.warn(\n",
      "C:\\Users\\Mahmoud\\anaconda3\\lib\\site-packages\\sklearn\\base.py:438: UserWarning: X has feature names, but PLSRegression was fitted without feature names\n",
      "  warnings.warn(\n",
      "C:\\Users\\Mahmoud\\anaconda3\\lib\\site-packages\\sklearn\\base.py:438: UserWarning: X has feature names, but PLSRegression was fitted without feature names\n",
      "  warnings.warn(\n",
      "C:\\Users\\Mahmoud\\anaconda3\\lib\\site-packages\\sklearn\\base.py:438: UserWarning: X has feature names, but PLSRegression was fitted without feature names\n",
      "  warnings.warn(\n",
      "C:\\Users\\Mahmoud\\anaconda3\\lib\\site-packages\\sklearn\\base.py:438: UserWarning: X has feature names, but PLSRegression was fitted without feature names\n",
      "  warnings.warn(\n",
      "C:\\Users\\Mahmoud\\anaconda3\\lib\\site-packages\\sklearn\\base.py:438: UserWarning: X has feature names, but PLSRegression was fitted without feature names\n",
      "  warnings.warn(\n",
      "C:\\Users\\Mahmoud\\anaconda3\\lib\\site-packages\\sklearn\\base.py:438: UserWarning: X has feature names, but PLSRegression was fitted without feature names\n",
      "  warnings.warn(\n",
      "C:\\Users\\Mahmoud\\anaconda3\\lib\\site-packages\\sklearn\\base.py:438: UserWarning: X has feature names, but PLSRegression was fitted without feature names\n",
      "  warnings.warn(\n",
      "C:\\Users\\Mahmoud\\anaconda3\\lib\\site-packages\\sklearn\\base.py:438: UserWarning: X has feature names, but PLSRegression was fitted without feature names\n",
      "  warnings.warn(\n",
      "C:\\Users\\Mahmoud\\anaconda3\\lib\\site-packages\\sklearn\\base.py:438: UserWarning: X has feature names, but PLSRegression was fitted without feature names\n",
      "  warnings.warn(\n",
      "C:\\Users\\Mahmoud\\anaconda3\\lib\\site-packages\\sklearn\\base.py:438: UserWarning: X has feature names, but PLSRegression was fitted without feature names\n",
      "  warnings.warn(\n",
      "C:\\Users\\Mahmoud\\anaconda3\\lib\\site-packages\\sklearn\\base.py:438: UserWarning: X has feature names, but PLSRegression was fitted without feature names\n",
      "  warnings.warn(\n",
      "C:\\Users\\Mahmoud\\anaconda3\\lib\\site-packages\\sklearn\\base.py:438: UserWarning: X has feature names, but PLSRegression was fitted without feature names\n",
      "  warnings.warn(\n",
      "C:\\Users\\Mahmoud\\anaconda3\\lib\\site-packages\\sklearn\\base.py:438: UserWarning: X has feature names, but PLSRegression was fitted without feature names\n",
      "  warnings.warn(\n",
      "C:\\Users\\Mahmoud\\anaconda3\\lib\\site-packages\\sklearn\\base.py:438: UserWarning: X has feature names, but PLSRegression was fitted without feature names\n",
      "  warnings.warn(\n",
      "C:\\Users\\Mahmoud\\anaconda3\\lib\\site-packages\\sklearn\\base.py:438: UserWarning: X has feature names, but PLSRegression was fitted without feature names\n",
      "  warnings.warn(\n",
      "C:\\Users\\Mahmoud\\anaconda3\\lib\\site-packages\\sklearn\\base.py:438: UserWarning: X has feature names, but PLSRegression was fitted without feature names\n",
      "  warnings.warn(\n",
      "C:\\Users\\Mahmoud\\anaconda3\\lib\\site-packages\\sklearn\\base.py:438: UserWarning: X has feature names, but PLSRegression was fitted without feature names\n",
      "  warnings.warn(\n",
      "C:\\Users\\Mahmoud\\anaconda3\\lib\\site-packages\\sklearn\\base.py:438: UserWarning: X has feature names, but PLSRegression was fitted without feature names\n",
      "  warnings.warn(\n",
      "C:\\Users\\Mahmoud\\anaconda3\\lib\\site-packages\\sklearn\\base.py:438: UserWarning: X has feature names, but PLSRegression was fitted without feature names\n",
      "  warnings.warn(\n",
      "C:\\Users\\Mahmoud\\anaconda3\\lib\\site-packages\\sklearn\\base.py:438: UserWarning: X has feature names, but PLSRegression was fitted without feature names\n",
      "  warnings.warn(\n"
     ]
    },
    {
     "name": "stderr",
     "output_type": "stream",
     "text": [
      "C:\\Users\\Mahmoud\\anaconda3\\lib\\site-packages\\sklearn\\base.py:438: UserWarning: X has feature names, but PLSRegression was fitted without feature names\n",
      "  warnings.warn(\n",
      "C:\\Users\\Mahmoud\\anaconda3\\lib\\site-packages\\sklearn\\base.py:438: UserWarning: X has feature names, but PLSRegression was fitted without feature names\n",
      "  warnings.warn(\n",
      "C:\\Users\\Mahmoud\\anaconda3\\lib\\site-packages\\sklearn\\base.py:438: UserWarning: X has feature names, but PLSRegression was fitted without feature names\n",
      "  warnings.warn(\n",
      "C:\\Users\\Mahmoud\\anaconda3\\lib\\site-packages\\sklearn\\base.py:438: UserWarning: X has feature names, but PLSRegression was fitted without feature names\n",
      "  warnings.warn(\n",
      "C:\\Users\\Mahmoud\\anaconda3\\lib\\site-packages\\sklearn\\base.py:438: UserWarning: X has feature names, but PLSRegression was fitted without feature names\n",
      "  warnings.warn(\n",
      "C:\\Users\\Mahmoud\\anaconda3\\lib\\site-packages\\sklearn\\base.py:438: UserWarning: X has feature names, but PLSRegression was fitted without feature names\n",
      "  warnings.warn(\n",
      "C:\\Users\\Mahmoud\\anaconda3\\lib\\site-packages\\sklearn\\base.py:438: UserWarning: X has feature names, but PLSRegression was fitted without feature names\n",
      "  warnings.warn(\n",
      "C:\\Users\\Mahmoud\\anaconda3\\lib\\site-packages\\sklearn\\base.py:438: UserWarning: X has feature names, but PLSRegression was fitted without feature names\n",
      "  warnings.warn(\n",
      "C:\\Users\\Mahmoud\\anaconda3\\lib\\site-packages\\sklearn\\base.py:438: UserWarning: X has feature names, but PLSRegression was fitted without feature names\n",
      "  warnings.warn(\n",
      "C:\\Users\\Mahmoud\\anaconda3\\lib\\site-packages\\sklearn\\base.py:438: UserWarning: X has feature names, but PLSRegression was fitted without feature names\n",
      "  warnings.warn(\n",
      "C:\\Users\\Mahmoud\\anaconda3\\lib\\site-packages\\sklearn\\base.py:438: UserWarning: X has feature names, but PLSRegression was fitted without feature names\n",
      "  warnings.warn(\n",
      "C:\\Users\\Mahmoud\\anaconda3\\lib\\site-packages\\sklearn\\base.py:438: UserWarning: X has feature names, but PLSRegression was fitted without feature names\n",
      "  warnings.warn(\n",
      "C:\\Users\\Mahmoud\\anaconda3\\lib\\site-packages\\sklearn\\base.py:438: UserWarning: X has feature names, but PLSRegression was fitted without feature names\n",
      "  warnings.warn(\n",
      "C:\\Users\\Mahmoud\\anaconda3\\lib\\site-packages\\sklearn\\base.py:438: UserWarning: X has feature names, but PLSRegression was fitted without feature names\n",
      "  warnings.warn(\n",
      "C:\\Users\\Mahmoud\\anaconda3\\lib\\site-packages\\sklearn\\base.py:438: UserWarning: X has feature names, but PLSRegression was fitted without feature names\n",
      "  warnings.warn(\n",
      "C:\\Users\\Mahmoud\\anaconda3\\lib\\site-packages\\sklearn\\base.py:438: UserWarning: X has feature names, but PLSRegression was fitted without feature names\n",
      "  warnings.warn(\n",
      "C:\\Users\\Mahmoud\\anaconda3\\lib\\site-packages\\sklearn\\base.py:438: UserWarning: X has feature names, but PLSRegression was fitted without feature names\n",
      "  warnings.warn(\n",
      "C:\\Users\\Mahmoud\\anaconda3\\lib\\site-packages\\sklearn\\base.py:438: UserWarning: X has feature names, but PLSRegression was fitted without feature names\n",
      "  warnings.warn(\n",
      "C:\\Users\\Mahmoud\\anaconda3\\lib\\site-packages\\sklearn\\base.py:438: UserWarning: X has feature names, but PLSRegression was fitted without feature names\n",
      "  warnings.warn(\n",
      "C:\\Users\\Mahmoud\\anaconda3\\lib\\site-packages\\sklearn\\base.py:438: UserWarning: X has feature names, but PLSRegression was fitted without feature names\n",
      "  warnings.warn(\n",
      "C:\\Users\\Mahmoud\\anaconda3\\lib\\site-packages\\sklearn\\base.py:438: UserWarning: X has feature names, but PLSRegression was fitted without feature names\n",
      "  warnings.warn(\n",
      "C:\\Users\\Mahmoud\\anaconda3\\lib\\site-packages\\sklearn\\base.py:438: UserWarning: X has feature names, but PLSRegression was fitted without feature names\n",
      "  warnings.warn(\n",
      "C:\\Users\\Mahmoud\\anaconda3\\lib\\site-packages\\sklearn\\base.py:438: UserWarning: X has feature names, but PLSRegression was fitted without feature names\n",
      "  warnings.warn(\n",
      "C:\\Users\\Mahmoud\\anaconda3\\lib\\site-packages\\sklearn\\base.py:438: UserWarning: X has feature names, but PLSRegression was fitted without feature names\n",
      "  warnings.warn(\n",
      "C:\\Users\\Mahmoud\\anaconda3\\lib\\site-packages\\sklearn\\base.py:438: UserWarning: X has feature names, but PLSRegression was fitted without feature names\n",
      "  warnings.warn(\n",
      "C:\\Users\\Mahmoud\\anaconda3\\lib\\site-packages\\sklearn\\base.py:438: UserWarning: X has feature names, but PLSRegression was fitted without feature names\n",
      "  warnings.warn(\n",
      "C:\\Users\\Mahmoud\\anaconda3\\lib\\site-packages\\sklearn\\base.py:438: UserWarning: X has feature names, but PLSRegression was fitted without feature names\n",
      "  warnings.warn(\n",
      "C:\\Users\\Mahmoud\\anaconda3\\lib\\site-packages\\sklearn\\base.py:438: UserWarning: X has feature names, but PLSRegression was fitted without feature names\n",
      "  warnings.warn(\n",
      "C:\\Users\\Mahmoud\\anaconda3\\lib\\site-packages\\sklearn\\base.py:438: UserWarning: X has feature names, but PLSRegression was fitted without feature names\n",
      "  warnings.warn(\n",
      "C:\\Users\\Mahmoud\\anaconda3\\lib\\site-packages\\sklearn\\base.py:438: UserWarning: X has feature names, but PLSRegression was fitted without feature names\n",
      "  warnings.warn(\n",
      "C:\\Users\\Mahmoud\\anaconda3\\lib\\site-packages\\sklearn\\base.py:438: UserWarning: X has feature names, but PLSRegression was fitted without feature names\n",
      "  warnings.warn(\n",
      "C:\\Users\\Mahmoud\\anaconda3\\lib\\site-packages\\sklearn\\base.py:438: UserWarning: X has feature names, but PLSRegression was fitted without feature names\n",
      "  warnings.warn(\n",
      "C:\\Users\\Mahmoud\\anaconda3\\lib\\site-packages\\sklearn\\base.py:438: UserWarning: X has feature names, but PLSRegression was fitted without feature names\n",
      "  warnings.warn(\n",
      "C:\\Users\\Mahmoud\\anaconda3\\lib\\site-packages\\sklearn\\base.py:438: UserWarning: X has feature names, but PLSRegression was fitted without feature names\n",
      "  warnings.warn(\n",
      "C:\\Users\\Mahmoud\\anaconda3\\lib\\site-packages\\sklearn\\base.py:438: UserWarning: X has feature names, but PLSRegression was fitted without feature names\n",
      "  warnings.warn(\n",
      "C:\\Users\\Mahmoud\\anaconda3\\lib\\site-packages\\sklearn\\base.py:438: UserWarning: X has feature names, but PLSRegression was fitted without feature names\n",
      "  warnings.warn(\n",
      "C:\\Users\\Mahmoud\\anaconda3\\lib\\site-packages\\sklearn\\base.py:438: UserWarning: X has feature names, but PLSRegression was fitted without feature names\n",
      "  warnings.warn(\n",
      "C:\\Users\\Mahmoud\\anaconda3\\lib\\site-packages\\sklearn\\base.py:438: UserWarning: X has feature names, but PLSRegression was fitted without feature names\n",
      "  warnings.warn(\n",
      "C:\\Users\\Mahmoud\\anaconda3\\lib\\site-packages\\sklearn\\base.py:438: UserWarning: X has feature names, but PLSRegression was fitted without feature names\n",
      "  warnings.warn(\n",
      "C:\\Users\\Mahmoud\\anaconda3\\lib\\site-packages\\sklearn\\base.py:438: UserWarning: X has feature names, but PLSRegression was fitted without feature names\n",
      "  warnings.warn(\n",
      "C:\\Users\\Mahmoud\\anaconda3\\lib\\site-packages\\sklearn\\base.py:438: UserWarning: X has feature names, but PLSRegression was fitted without feature names\n",
      "  warnings.warn(\n",
      "C:\\Users\\Mahmoud\\anaconda3\\lib\\site-packages\\sklearn\\base.py:438: UserWarning: X has feature names, but PLSRegression was fitted without feature names\n",
      "  warnings.warn(\n",
      "C:\\Users\\Mahmoud\\anaconda3\\lib\\site-packages\\sklearn\\base.py:438: UserWarning: X has feature names, but PLSRegression was fitted without feature names\n",
      "  warnings.warn(\n",
      "C:\\Users\\Mahmoud\\anaconda3\\lib\\site-packages\\sklearn\\base.py:438: UserWarning: X has feature names, but PLSRegression was fitted without feature names\n",
      "  warnings.warn(\n",
      "C:\\Users\\Mahmoud\\anaconda3\\lib\\site-packages\\sklearn\\base.py:438: UserWarning: X has feature names, but PLSRegression was fitted without feature names\n",
      "  warnings.warn(\n",
      "C:\\Users\\Mahmoud\\anaconda3\\lib\\site-packages\\sklearn\\base.py:438: UserWarning: X has feature names, but PLSRegression was fitted without feature names\n",
      "  warnings.warn(\n",
      "C:\\Users\\Mahmoud\\anaconda3\\lib\\site-packages\\sklearn\\base.py:438: UserWarning: X has feature names, but PLSRegression was fitted without feature names\n",
      "  warnings.warn(\n",
      "C:\\Users\\Mahmoud\\anaconda3\\lib\\site-packages\\sklearn\\base.py:438: UserWarning: X has feature names, but PLSRegression was fitted without feature names\n",
      "  warnings.warn(\n",
      "C:\\Users\\Mahmoud\\anaconda3\\lib\\site-packages\\sklearn\\base.py:438: UserWarning: X has feature names, but PLSRegression was fitted without feature names\n",
      "  warnings.warn(\n",
      "C:\\Users\\Mahmoud\\anaconda3\\lib\\site-packages\\sklearn\\base.py:438: UserWarning: X has feature names, but PLSRegression was fitted without feature names\n",
      "  warnings.warn(\n",
      "C:\\Users\\Mahmoud\\anaconda3\\lib\\site-packages\\sklearn\\base.py:438: UserWarning: X has feature names, but PLSRegression was fitted without feature names\n",
      "  warnings.warn(\n"
     ]
    },
    {
     "name": "stderr",
     "output_type": "stream",
     "text": [
      "C:\\Users\\Mahmoud\\anaconda3\\lib\\site-packages\\sklearn\\base.py:438: UserWarning: X has feature names, but PLSRegression was fitted without feature names\n",
      "  warnings.warn(\n",
      "C:\\Users\\Mahmoud\\anaconda3\\lib\\site-packages\\sklearn\\base.py:438: UserWarning: X has feature names, but PLSRegression was fitted without feature names\n",
      "  warnings.warn(\n",
      "C:\\Users\\Mahmoud\\anaconda3\\lib\\site-packages\\sklearn\\base.py:438: UserWarning: X has feature names, but PLSRegression was fitted without feature names\n",
      "  warnings.warn(\n",
      "C:\\Users\\Mahmoud\\anaconda3\\lib\\site-packages\\sklearn\\base.py:438: UserWarning: X has feature names, but PLSRegression was fitted without feature names\n",
      "  warnings.warn(\n",
      "C:\\Users\\Mahmoud\\anaconda3\\lib\\site-packages\\sklearn\\base.py:438: UserWarning: X has feature names, but PLSRegression was fitted without feature names\n",
      "  warnings.warn(\n",
      "C:\\Users\\Mahmoud\\anaconda3\\lib\\site-packages\\sklearn\\base.py:438: UserWarning: X has feature names, but PLSRegression was fitted without feature names\n",
      "  warnings.warn(\n",
      "C:\\Users\\Mahmoud\\anaconda3\\lib\\site-packages\\sklearn\\base.py:438: UserWarning: X has feature names, but PLSRegression was fitted without feature names\n",
      "  warnings.warn(\n",
      "C:\\Users\\Mahmoud\\anaconda3\\lib\\site-packages\\sklearn\\base.py:438: UserWarning: X has feature names, but PLSRegression was fitted without feature names\n",
      "  warnings.warn(\n",
      "C:\\Users\\Mahmoud\\anaconda3\\lib\\site-packages\\sklearn\\base.py:438: UserWarning: X has feature names, but PLSRegression was fitted without feature names\n",
      "  warnings.warn(\n",
      "C:\\Users\\Mahmoud\\anaconda3\\lib\\site-packages\\sklearn\\base.py:438: UserWarning: X has feature names, but PLSRegression was fitted without feature names\n",
      "  warnings.warn(\n",
      "C:\\Users\\Mahmoud\\anaconda3\\lib\\site-packages\\sklearn\\base.py:438: UserWarning: X has feature names, but PLSRegression was fitted without feature names\n",
      "  warnings.warn(\n",
      "C:\\Users\\Mahmoud\\anaconda3\\lib\\site-packages\\sklearn\\base.py:438: UserWarning: X has feature names, but PLSRegression was fitted without feature names\n",
      "  warnings.warn(\n",
      "C:\\Users\\Mahmoud\\anaconda3\\lib\\site-packages\\sklearn\\base.py:438: UserWarning: X has feature names, but PLSRegression was fitted without feature names\n",
      "  warnings.warn(\n",
      "C:\\Users\\Mahmoud\\anaconda3\\lib\\site-packages\\sklearn\\base.py:438: UserWarning: X has feature names, but PLSRegression was fitted without feature names\n",
      "  warnings.warn(\n",
      "C:\\Users\\Mahmoud\\anaconda3\\lib\\site-packages\\sklearn\\base.py:438: UserWarning: X has feature names, but PLSRegression was fitted without feature names\n",
      "  warnings.warn(\n",
      "C:\\Users\\Mahmoud\\anaconda3\\lib\\site-packages\\sklearn\\base.py:438: UserWarning: X has feature names, but PLSRegression was fitted without feature names\n",
      "  warnings.warn(\n",
      "C:\\Users\\Mahmoud\\anaconda3\\lib\\site-packages\\sklearn\\base.py:438: UserWarning: X has feature names, but PLSRegression was fitted without feature names\n",
      "  warnings.warn(\n",
      "C:\\Users\\Mahmoud\\anaconda3\\lib\\site-packages\\sklearn\\base.py:438: UserWarning: X has feature names, but PLSRegression was fitted without feature names\n",
      "  warnings.warn(\n",
      "C:\\Users\\Mahmoud\\anaconda3\\lib\\site-packages\\sklearn\\base.py:438: UserWarning: X has feature names, but PLSRegression was fitted without feature names\n",
      "  warnings.warn(\n",
      "C:\\Users\\Mahmoud\\anaconda3\\lib\\site-packages\\sklearn\\base.py:438: UserWarning: X has feature names, but PLSRegression was fitted without feature names\n",
      "  warnings.warn(\n",
      "C:\\Users\\Mahmoud\\anaconda3\\lib\\site-packages\\sklearn\\base.py:438: UserWarning: X has feature names, but PLSRegression was fitted without feature names\n",
      "  warnings.warn(\n",
      "C:\\Users\\Mahmoud\\anaconda3\\lib\\site-packages\\sklearn\\base.py:438: UserWarning: X has feature names, but PLSRegression was fitted without feature names\n",
      "  warnings.warn(\n",
      "C:\\Users\\Mahmoud\\anaconda3\\lib\\site-packages\\sklearn\\base.py:438: UserWarning: X has feature names, but PLSRegression was fitted without feature names\n",
      "  warnings.warn(\n",
      "C:\\Users\\Mahmoud\\anaconda3\\lib\\site-packages\\sklearn\\base.py:438: UserWarning: X has feature names, but PLSRegression was fitted without feature names\n",
      "  warnings.warn(\n",
      "C:\\Users\\Mahmoud\\anaconda3\\lib\\site-packages\\sklearn\\base.py:438: UserWarning: X has feature names, but PLSRegression was fitted without feature names\n",
      "  warnings.warn(\n",
      "C:\\Users\\Mahmoud\\anaconda3\\lib\\site-packages\\sklearn\\base.py:438: UserWarning: X has feature names, but PLSRegression was fitted without feature names\n",
      "  warnings.warn(\n",
      "C:\\Users\\Mahmoud\\anaconda3\\lib\\site-packages\\sklearn\\base.py:438: UserWarning: X has feature names, but PLSRegression was fitted without feature names\n",
      "  warnings.warn(\n",
      "C:\\Users\\Mahmoud\\anaconda3\\lib\\site-packages\\sklearn\\base.py:438: UserWarning: X has feature names, but PLSRegression was fitted without feature names\n",
      "  warnings.warn(\n",
      "C:\\Users\\Mahmoud\\anaconda3\\lib\\site-packages\\sklearn\\base.py:438: UserWarning: X has feature names, but PLSRegression was fitted without feature names\n",
      "  warnings.warn(\n",
      "C:\\Users\\Mahmoud\\anaconda3\\lib\\site-packages\\sklearn\\base.py:438: UserWarning: X has feature names, but PLSRegression was fitted without feature names\n",
      "  warnings.warn(\n",
      "C:\\Users\\Mahmoud\\anaconda3\\lib\\site-packages\\sklearn\\base.py:438: UserWarning: X has feature names, but PLSRegression was fitted without feature names\n",
      "  warnings.warn(\n",
      "C:\\Users\\Mahmoud\\anaconda3\\lib\\site-packages\\sklearn\\base.py:438: UserWarning: X has feature names, but PLSRegression was fitted without feature names\n",
      "  warnings.warn(\n",
      "C:\\Users\\Mahmoud\\anaconda3\\lib\\site-packages\\sklearn\\base.py:438: UserWarning: X has feature names, but PLSRegression was fitted without feature names\n",
      "  warnings.warn(\n",
      "C:\\Users\\Mahmoud\\anaconda3\\lib\\site-packages\\sklearn\\base.py:438: UserWarning: X has feature names, but PLSRegression was fitted without feature names\n",
      "  warnings.warn(\n",
      "C:\\Users\\Mahmoud\\anaconda3\\lib\\site-packages\\sklearn\\base.py:438: UserWarning: X has feature names, but PLSRegression was fitted without feature names\n",
      "  warnings.warn(\n",
      "C:\\Users\\Mahmoud\\anaconda3\\lib\\site-packages\\sklearn\\base.py:438: UserWarning: X has feature names, but PLSRegression was fitted without feature names\n",
      "  warnings.warn(\n",
      "C:\\Users\\Mahmoud\\anaconda3\\lib\\site-packages\\sklearn\\base.py:438: UserWarning: X has feature names, but PLSRegression was fitted without feature names\n",
      "  warnings.warn(\n",
      "C:\\Users\\Mahmoud\\anaconda3\\lib\\site-packages\\sklearn\\base.py:438: UserWarning: X has feature names, but PLSRegression was fitted without feature names\n",
      "  warnings.warn(\n",
      "C:\\Users\\Mahmoud\\anaconda3\\lib\\site-packages\\sklearn\\base.py:438: UserWarning: X has feature names, but PLSRegression was fitted without feature names\n",
      "  warnings.warn(\n"
     ]
    }
   ],
   "source": [
    "RMSE = []\n",
    "for snr in SNRs:\n",
    "    slave = addnoise3(X2.copy(deep=True),snr)\n",
    "    preds = pls.predict(slave)\n",
    "    delta_y = y2[:200].to_numpy()-preds[:200]\n",
    "    term1 = np.matmul(master.to_numpy().T , master.to_numpy())\n",
    "    delta_x  = slave[:200].to_numpy() -  np.matmul(slave[:200].to_numpy() , term1)\n",
    "    pls2 = PLSRegression(n_components=60)\n",
    "    pls2.fit(delta_x , delta_y)\n",
    "    term2 = np.matmul(slave[200:],(np.identity(term1.shape[0]) - term1))\n",
    "    new_preds = pls.predict(slave[200:]) + pls2.predict(term2)\n",
    "    rmse = np.sqrt(mean_squared_error(y2[200:], new_preds))\n",
    "    RMSE.append(rmse)\n",
    "    \n",
    "    \n",
    "    "
   ]
  },
  {
   "cell_type": "code",
   "execution_count": 22,
   "id": "8708666b",
   "metadata": {},
   "outputs": [
    {
     "data": {
      "text/plain": [
       "Text(0, 0.5, 'RMSE')"
      ]
     },
     "execution_count": 22,
     "metadata": {},
     "output_type": "execute_result"
    },
    {
     "data": {
      "image/png": "[encoded data removed]",
      "text/plain": [
       "<Figure size 432x288 with 1 Axes>"
      ]
     },
     "metadata": {
      "needs_background": "light"
     },
     "output_type": "display_data"
    }
   ],
   "source": [
    "plt.plot(SNRs,RMSE)\n",
    "plt.xlabel('SNR (in decibel)')\n",
    "plt.ylabel('RMSE')"
   ]
  },
  {
   "cell_type": "markdown",
   "id": "ab4f548e",
   "metadata": {},
   "source": [
    "# Sinc interpolation"
   ]
  },
  {
   "cell_type": "code",
   "execution_count": 33,
   "id": "e2af846c",
   "metadata": {},
   "outputs": [],
   "source": [
    "def sinc_interp(x, s, u):\n",
    "    if len(x) != len(s):\n",
    "        raise ValueError('x and s must be the same length')\n",
    "    \n",
    "    # Find the period    \n",
    "    T = s[1] - s[0]\n",
    "    \n",
    "    sincM = np.tile(u, (len(s), 1)) - np.tile(s[:, np.newaxis], (1, len(u)))\n",
    "    y = np.dot(x, np.sinc(sincM/T))\n",
    "    return y"
   ]
  },
  {
   "cell_type": "code",
   "execution_count": 34,
   "id": "4ce1992d",
   "metadata": {},
   "outputs": [
    {
     "data": {
      "text/plain": [
       "[0,\n",
       " 0,\n",
       " 0,\n",
       " 0,\n",
       " 0,\n",
       " 0,\n",
       " 0,\n",
       " 0,\n",
       " 0,\n",
       " 0,\n",
       " 0,\n",
       " 0,\n",
       " 0,\n",
       " 0,\n",
       " 0,\n",
       " 0,\n",
       " 0,\n",
       " 0,\n",
       " 0,\n",
       " 0,\n",
       " 0,\n",
       " 0,\n",
       " 0,\n",
       " 0,\n",
       " 0,\n",
       " 0,\n",
       " 0,\n",
       " 0,\n",
       " 0,\n",
       " 0,\n",
       " 0,\n",
       " 0,\n",
       " 0,\n",
       " 0,\n",
       " 0,\n",
       " 0,\n",
       " 0,\n",
       " 0,\n",
       " 0,\n",
       " 0,\n",
       " 0,\n",
       " 0,\n",
       " 0,\n",
       " 0,\n",
       " 0,\n",
       " 0,\n",
       " 0,\n",
       " 0,\n",
       " 0,\n",
       " 0,\n",
       " 0,\n",
       " 0,\n",
       " 0,\n",
       " 0,\n",
       " 0,\n",
       " 0,\n",
       " 0,\n",
       " 0,\n",
       " 0,\n",
       " 0,\n",
       " 0,\n",
       " 0,\n",
       " 0,\n",
       " 0,\n",
       " 0,\n",
       " 0,\n",
       " 0,\n",
       " 0,\n",
       " 0,\n",
       " 0,\n",
       " 0,\n",
       " 0,\n",
       " 0,\n",
       " 0,\n",
       " 0,\n",
       " 0,\n",
       " 0,\n",
       " 0,\n",
       " 0,\n",
       " 0,\n",
       " 0,\n",
       " 0,\n",
       " 0,\n",
       " 0,\n",
       " 0,\n",
       " 0,\n",
       " 0,\n",
       " 0,\n",
       " 0,\n",
       " 0,\n",
       " 0,\n",
       " 0,\n",
       " 0,\n",
       " 0,\n",
       " 0,\n",
       " 0,\n",
       " 0,\n",
       " 0,\n",
       " 0,\n",
       " 0,\n",
       " 0,\n",
       " 0,\n",
       " 0,\n",
       " 0,\n",
       " 0,\n",
       " 0,\n",
       " 0,\n",
       " 0,\n",
       " 0,\n",
       " 0,\n",
       " 0,\n",
       " 0,\n",
       " 0,\n",
       " 0,\n",
       " 0,\n",
       " 0,\n",
       " 0,\n",
       " 0,\n",
       " 0,\n",
       " 0,\n",
       " 0,\n",
       " 0,\n",
       " 0,\n",
       " 0,\n",
       " 0,\n",
       " 0,\n",
       " 0,\n",
       " 0,\n",
       " 0,\n",
       " 0,\n",
       " 0,\n",
       " 0,\n",
       " 0,\n",
       " 0,\n",
       " 0,\n",
       " 0,\n",
       " 0,\n",
       " 0,\n",
       " 0,\n",
       " 0]"
      ]
     },
     "execution_count": 34,
     "metadata": {},
     "output_type": "execute_result"
    }
   ],
   "source": [
    "u = [i for i in range(1104,2497,10)]\n",
    "shift = [i*0 for i in range(len(u))]\n",
    "\n",
    "for i in range(len(u)):\n",
    "    u[i] = u[i] + shift[i]\n",
    "shift"
   ]
  },
  {
   "cell_type": "code",
   "execution_count": 35,
   "id": "943abfa1",
   "metadata": {},
   "outputs": [
    {
     "data": {
      "text/plain": [
       "[<matplotlib.lines.Line2D at 0x17972f0fa60>]"
      ]
     },
     "execution_count": 35,
     "metadata": {},
     "output_type": "execute_result"
    },
    {
     "data": {
      "image/png": "[encoded data removed]",
      "text/plain": [
       "<Figure size 432x288 with 1 Axes>"
      ]
     },
     "metadata": {
      "needs_background": "light"
     },
     "output_type": "display_data"
    }
   ],
   "source": [
    "y_new = sinc_interp(X.iloc[0],np.array([int(i) for i in X.columns]),u)\n",
    "plt.plot(u,y_new,color='red')"
   ]
  },
  {
   "cell_type": "code",
   "execution_count": null,
   "id": "d74ad491",
   "metadata": {},
   "outputs": [],
   "source": []
  },
  {
   "cell_type": "code",
   "execution_count": null,
   "id": "3ce72219",
   "metadata": {},
   "outputs": [],
   "source": []
  }
 ],
 "metadata": {
  "kernelspec": {
   "display_name": "Python 3",
   "language": "python",
   "name": "python3"
  },
  "language_info": {
   "codemirror_mode": {
    "name": "ipython",
    "version": 3
   },
   "file_extension": ".py",
   "mimetype": "text/x-python",
   "name": "python",
   "nbconvert_exporter": "python",
   "pygments_lexer": "ipython3",
   "version": "3.8.11"
  }
 },
 "nbformat": 4,
 "nbformat_minor": 5
}
