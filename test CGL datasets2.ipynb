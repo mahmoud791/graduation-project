{
 "cells": [
  {
   "cell_type": "markdown",
   "id": "8a5f5e88",
   "metadata": {},
   "source": [
    "# Here in this note book we will do some exploration of the CGL dataset "
   ]
  },
  {
   "cell_type": "markdown",
   "id": "0c39e85c",
   "metadata": {},
   "source": [
    "starting by importing the neccessary packages\n",
    "\n",
    "note : we need to install the nippy and peakutils packages but they cant be instlled using pip so the should be installed manuually"
   ]
  },
  {
   "cell_type": "code",
   "execution_count": 12,
   "id": "57736de8",
   "metadata": {},
   "outputs": [],
   "source": [
    "import matplotlib.pyplot as plt\n",
    "import pandas as pd\n",
    "import numpy as np\n",
    "import nippy\n",
    "import scipy\n",
    "import peakutils\n",
    "import math\n",
    "from sklearn.cross_decomposition import PLSRegression\n",
    "%matplotlib inline "
   ]
  },
  {
   "cell_type": "markdown",
   "id": "ad6f5b2e",
   "metadata": {},
   "source": [
    "here we will load the three csv files containing corn samples and concatinate them into one pandas data frame, then \n",
    " plot any data point of it "
   ]
  },
  {
   "cell_type": "code",
   "execution_count": 13,
   "id": "df1d7c89",
   "metadata": {},
   "outputs": [
    {
     "data": {
      "text/plain": [
       "Text(0, 0.5, 'absorbtion')"
      ]
     },
     "execution_count": 13,
     "metadata": {},
     "output_type": "execute_result"
    },
    {
     "data": {
      "image/png": "[encoded data removed]",
      "text/plain": [
       "<Figure size 432x288 with 1 Axes>"
      ]
     },
     "metadata": {
      "needs_background": "light"
     },
     "output_type": "display_data"
    }
   ],
   "source": [
    "specs1 = pd.read_csv(r'D:\\Gradution project\\datasets\\CGL\\x_train.csv')\n",
    "specs2 = pd.read_csv(r'D:\\Gradution project\\datasets\\CGL\\x_val.csv')\n",
    "specs = pd.concat([specs1,specs2], axis=0)\n",
    "specs = specs.sample(frac=1).reset_index(drop=True)\n",
    "sample = specs.iloc[110]  \n",
    "sample.plot()\n",
    "plt.xlabel('wavelengths')\n",
    "plt.ylabel('absorbtion')\n"
   ]
  },
  {
   "cell_type": "markdown",
   "id": "78d9d019",
   "metadata": {},
   "source": [
    "as we can se the data is very smooth and we will consider the 'specs' data frame to be the master throughout this notebook\n"
   ]
  },
  {
   "cell_type": "markdown",
   "id": "858ecdc7",
   "metadata": {},
   "source": [
    "# here we will define some preprocessing functions"
   ]
  },
  {
   "cell_type": "markdown",
   "id": "985feaf4",
   "metadata": {},
   "source": [
    "### Resampling:"
   ]
  },
  {
   "cell_type": "markdown",
   "id": "f92af262",
   "metadata": {},
   "source": [
    "the first function is used to resample the data set to reduce resolution , this could be particularly useful when trying to simulate the slave insturment with less resolution than the master "
   ]
  },
  {
   "cell_type": "code",
   "execution_count": 14,
   "id": "b8ce3f4a",
   "metadata": {},
   "outputs": [],
   "source": [
    "def sinc_interp(x, s, u):\n",
    "    if len(x) != len(s):\n",
    "        raise ValueError('x and s must be the same length')\n",
    "    \n",
    "    # Find the period    \n",
    "    T = s[1] - s[0]\n",
    "    \n",
    "    sincM = np.tile(u, (len(s), 1)) - np.tile(s[:, np.newaxis], (1, len(u)))\n",
    "    y = np.dot(x, np.sinc(sincM/T))\n",
    "    return y"
   ]
  },
  {
   "cell_type": "code",
   "execution_count": 15,
   "id": "96d0fb99",
   "metadata": {},
   "outputs": [],
   "source": [
    "def resample(wavelength, spectra, resampling_ratio):\n",
    "    \"\"\" Resample spectra according to the resampling ratio.\n",
    "    Args:\n",
    "        wavelength <numpy.ndarray>: Vector of wavelengths.\n",
    "        spectra <numpy.ndarray>: NIRS data matrix.\n",
    "        resampling_ratio <float>: new length with respect to original length\n",
    "    Returns:\n",
    "        wavelength_ <numpy.ndarray>: Resampled wavelengths.\n",
    "        spectra_ <numpy.ndarray>: Resampled NIR spectra\n",
    "    \"\"\"\n",
    "\n",
    "    new_length = int(np.round(wavelength.size * resampling_ratio))\n",
    "    spectra_, wavelength_ = scipy.signal.resample(spectra, new_length,axis=1, t=wavelength,domain='time')\n",
    "    return wavelength_, spectra_\n",
    "            "
   ]
  },
  {
   "cell_type": "code",
   "execution_count": 16,
   "id": "b960612f",
   "metadata": {},
   "outputs": [],
   "source": [
    "wavlength = np.array([int(i) for i in specs.columns])"
   ]
  },
  {
   "cell_type": "code",
   "execution_count": 17,
   "id": "92d389c0",
   "metadata": {},
   "outputs": [
    {
     "data": {
      "text/html": [
       "<div>\n",
       "<style scoped>\n",
       "    .dataframe tbody tr th:only-of-type {\n",
       "        vertical-align: middle;\n",
       "    }\n",
       "\n",
       "    .dataframe tbody tr th {\n",
       "        vertical-align: top;\n",
       "    }\n",
       "\n",
       "    .dataframe thead th {\n",
       "        text-align: right;\n",
       "    }\n",
       "</style>\n",
       "<table border=\"1\" class=\"dataframe\">\n",
       "  <thead>\n",
       "    <tr style=\"text-align: right;\">\n",
       "      <th></th>\n",
       "      <th>1104.000000</th>\n",
       "      <th>1128.206897</th>\n",
       "      <th>1152.413793</th>\n",
       "      <th>1176.620690</th>\n",
       "      <th>1200.827586</th>\n",
       "      <th>1225.034483</th>\n",
       "      <th>1249.241379</th>\n",
       "      <th>1273.448276</th>\n",
       "      <th>1297.655172</th>\n",
       "      <th>1321.862069</th>\n",
       "      <th>...</th>\n",
       "      <th>2265.931034</th>\n",
       "      <th>2290.137931</th>\n",
       "      <th>2314.344828</th>\n",
       "      <th>2338.551724</th>\n",
       "      <th>2362.758621</th>\n",
       "      <th>2386.965517</th>\n",
       "      <th>2411.172414</th>\n",
       "      <th>2435.379310</th>\n",
       "      <th>2459.586207</th>\n",
       "      <th>2483.793103</th>\n",
       "    </tr>\n",
       "  </thead>\n",
       "  <tbody>\n",
       "    <tr>\n",
       "      <th>0</th>\n",
       "      <td>0.315295</td>\n",
       "      <td>0.116337</td>\n",
       "      <td>0.187313</td>\n",
       "      <td>0.174075</td>\n",
       "      <td>0.201674</td>\n",
       "      <td>0.177087</td>\n",
       "      <td>0.187674</td>\n",
       "      <td>0.174896</td>\n",
       "      <td>0.179153</td>\n",
       "      <td>0.169707</td>\n",
       "      <td>...</td>\n",
       "      <td>0.592254</td>\n",
       "      <td>0.626937</td>\n",
       "      <td>0.621623</td>\n",
       "      <td>0.618610</td>\n",
       "      <td>0.611194</td>\n",
       "      <td>0.636038</td>\n",
       "      <td>0.623613</td>\n",
       "      <td>0.711857</td>\n",
       "      <td>0.750873</td>\n",
       "      <td>0.850843</td>\n",
       "    </tr>\n",
       "    <tr>\n",
       "      <th>1</th>\n",
       "      <td>0.250465</td>\n",
       "      <td>0.116872</td>\n",
       "      <td>0.165433</td>\n",
       "      <td>0.151171</td>\n",
       "      <td>0.164713</td>\n",
       "      <td>0.149615</td>\n",
       "      <td>0.155477</td>\n",
       "      <td>0.146146</td>\n",
       "      <td>0.149715</td>\n",
       "      <td>0.145747</td>\n",
       "      <td>...</td>\n",
       "      <td>0.456039</td>\n",
       "      <td>0.486035</td>\n",
       "      <td>0.477025</td>\n",
       "      <td>0.464237</td>\n",
       "      <td>0.455430</td>\n",
       "      <td>0.475927</td>\n",
       "      <td>0.478808</td>\n",
       "      <td>0.538257</td>\n",
       "      <td>0.547042</td>\n",
       "      <td>0.606803</td>\n",
       "    </tr>\n",
       "    <tr>\n",
       "      <th>2</th>\n",
       "      <td>0.235078</td>\n",
       "      <td>0.119856</td>\n",
       "      <td>0.161078</td>\n",
       "      <td>0.146292</td>\n",
       "      <td>0.156310</td>\n",
       "      <td>0.145135</td>\n",
       "      <td>0.149899</td>\n",
       "      <td>0.141551</td>\n",
       "      <td>0.144661</td>\n",
       "      <td>0.142041</td>\n",
       "      <td>...</td>\n",
       "      <td>0.412479</td>\n",
       "      <td>0.441055</td>\n",
       "      <td>0.432038</td>\n",
       "      <td>0.413616</td>\n",
       "      <td>0.405737</td>\n",
       "      <td>0.426804</td>\n",
       "      <td>0.435611</td>\n",
       "      <td>0.489261</td>\n",
       "      <td>0.490504</td>\n",
       "      <td>0.539456</td>\n",
       "    </tr>\n",
       "    <tr>\n",
       "      <th>3</th>\n",
       "      <td>0.245868</td>\n",
       "      <td>0.117362</td>\n",
       "      <td>0.162638</td>\n",
       "      <td>0.147481</td>\n",
       "      <td>0.160210</td>\n",
       "      <td>0.147872</td>\n",
       "      <td>0.153726</td>\n",
       "      <td>0.144753</td>\n",
       "      <td>0.147968</td>\n",
       "      <td>0.144378</td>\n",
       "      <td>...</td>\n",
       "      <td>0.431641</td>\n",
       "      <td>0.460820</td>\n",
       "      <td>0.453223</td>\n",
       "      <td>0.435740</td>\n",
       "      <td>0.429575</td>\n",
       "      <td>0.452617</td>\n",
       "      <td>0.459002</td>\n",
       "      <td>0.519605</td>\n",
       "      <td>0.527985</td>\n",
       "      <td>0.585830</td>\n",
       "    </tr>\n",
       "    <tr>\n",
       "      <th>4</th>\n",
       "      <td>0.271484</td>\n",
       "      <td>0.116750</td>\n",
       "      <td>0.176577</td>\n",
       "      <td>0.164374</td>\n",
       "      <td>0.181881</td>\n",
       "      <td>0.157903</td>\n",
       "      <td>0.164236</td>\n",
       "      <td>0.153584</td>\n",
       "      <td>0.158165</td>\n",
       "      <td>0.152040</td>\n",
       "      <td>...</td>\n",
       "      <td>0.540543</td>\n",
       "      <td>0.574058</td>\n",
       "      <td>0.561602</td>\n",
       "      <td>0.559401</td>\n",
       "      <td>0.543695</td>\n",
       "      <td>0.557651</td>\n",
       "      <td>0.549792</td>\n",
       "      <td>0.609842</td>\n",
       "      <td>0.623850</td>\n",
       "      <td>0.692290</td>\n",
       "    </tr>\n",
       "  </tbody>\n",
       "</table>\n",
       "<p>5 rows × 58 columns</p>\n",
       "</div>"
      ],
      "text/plain": [
       "   1104.000000  1128.206897  1152.413793  1176.620690  1200.827586  \\\n",
       "0     0.315295     0.116337     0.187313     0.174075     0.201674   \n",
       "1     0.250465     0.116872     0.165433     0.151171     0.164713   \n",
       "2     0.235078     0.119856     0.161078     0.146292     0.156310   \n",
       "3     0.245868     0.117362     0.162638     0.147481     0.160210   \n",
       "4     0.271484     0.116750     0.176577     0.164374     0.181881   \n",
       "\n",
       "   1225.034483  1249.241379  1273.448276  1297.655172  1321.862069  ...  \\\n",
       "0     0.177087     0.187674     0.174896     0.179153     0.169707  ...   \n",
       "1     0.149615     0.155477     0.146146     0.149715     0.145747  ...   \n",
       "2     0.145135     0.149899     0.141551     0.144661     0.142041  ...   \n",
       "3     0.147872     0.153726     0.144753     0.147968     0.144378  ...   \n",
       "4     0.157903     0.164236     0.153584     0.158165     0.152040  ...   \n",
       "\n",
       "   2265.931034  2290.137931  2314.344828  2338.551724  2362.758621  \\\n",
       "0     0.592254     0.626937     0.621623     0.618610     0.611194   \n",
       "1     0.456039     0.486035     0.477025     0.464237     0.455430   \n",
       "2     0.412479     0.441055     0.432038     0.413616     0.405737   \n",
       "3     0.431641     0.460820     0.453223     0.435740     0.429575   \n",
       "4     0.540543     0.574058     0.561602     0.559401     0.543695   \n",
       "\n",
       "   2386.965517  2411.172414  2435.379310  2459.586207  2483.793103  \n",
       "0     0.636038     0.623613     0.711857     0.750873     0.850843  \n",
       "1     0.475927     0.478808     0.538257     0.547042     0.606803  \n",
       "2     0.426804     0.435611     0.489261     0.490504     0.539456  \n",
       "3     0.452617     0.459002     0.519605     0.527985     0.585830  \n",
       "4     0.557651     0.549792     0.609842     0.623850     0.692290  \n",
       "\n",
       "[5 rows x 58 columns]"
      ]
     },
     "execution_count": 17,
     "metadata": {},
     "output_type": "execute_result"
    }
   ],
   "source": [
    "wav,out = resample(wavlength,specs,0.5)\n",
    "out = pd.DataFrame(out,columns=wav)\n",
    "out.head()\n",
    "#out.iloc[0].plot()"
   ]
  },
  {
   "cell_type": "code",
   "execution_count": 18,
   "id": "778780af",
   "metadata": {},
   "outputs": [
    {
     "data": {
      "text/plain": [
       "array([0.14474   , 0.14738166, 0.16244803, 0.18121279, 0.17693084,\n",
       "       0.16143575, 0.15359506, 0.15287142, 0.1499678 , 0.15082151,\n",
       "       0.16067799, 0.17775443, 0.1963935 , 0.22638992, 0.24158873,\n",
       "       0.2564244 , 0.28246551, 0.28239808, 0.26856276, 0.25976003,\n",
       "       0.25546476, 0.24885135, 0.24477456, 0.24796848, 0.28804472,\n",
       "       0.29773118, 0.31135511, 0.29669194, 0.28046381, 0.27694315,\n",
       "       0.27215638, 0.26866981, 0.28851691, 0.37319948, 0.44300553,\n",
       "       0.45596865, 0.45104015, 0.43350527, 0.44082258, 0.48362627,\n",
       "       0.46736229, 0.44656375, 0.45838071, 0.49815917, 0.53904669,\n",
       "       0.53434056, 0.51590256, 0.52028014, 0.58160992, 0.60217739,\n",
       "       0.59574532, 0.58939812, 0.57832209, 0.56728415, 0.57358205,\n",
       "       0.59376583, 0.63512469, 0.63551005])"
      ]
     },
     "execution_count": 18,
     "metadata": {},
     "output_type": "execute_result"
    }
   ],
   "source": [
    "y = sinc_interp(specs.iloc[110],np.array([int(i) for i in specs.columns]),wav)\n",
    "#plt.plot(wav,y,color='red')\n",
    "y"
   ]
  },
  {
   "cell_type": "markdown",
   "id": "e9556d1f",
   "metadata": {},
   "source": [
    "### Adding Noise:"
   ]
  },
  {
   "cell_type": "markdown",
   "id": "fec42e83",
   "metadata": {},
   "source": [
    "the second function is used to add noise and baseline shifts to the spectra"
   ]
  },
  {
   "cell_type": "code",
   "execution_count": 19,
   "id": "115652a3",
   "metadata": {},
   "outputs": [],
   "source": [
    "def PolyCoefficients(values, coeffs):\n",
    "    \"\"\" Returns a polynomial for ``x`` values for the ``coeffs`` provided.\n",
    "\n",
    "    The coefficients must be in ascending order (``x**0`` to ``x**o``).\n",
    "    \"\"\"\n",
    "    o = len(coeffs)\n",
    "    y = np.zeros(values)\n",
    "    x = np.array(range(values))\n",
    "    \n",
    "    for i in range(o):\n",
    "        y = y + coeffs[i]*x**i\n",
    "        \n",
    "    return y"
   ]
  },
  {
   "cell_type": "code",
   "execution_count": 20,
   "id": "8847a5f7",
   "metadata": {},
   "outputs": [],
   "source": [
    "def addnoise3(df,snr):\n",
    "    specs = df.copy()\n",
    "    columns = list(specs.columns)\n",
    "    specs = specs.to_numpy()\n",
    "    noise_standardDeviation = 1/math.pow(10,(snr/10))\n",
    "    for i in range(specs.shape[0]):\n",
    "        specs[i] = specs[i] + np.random.normal(0, noise_standardDeviation, specs.shape[1])\n",
    "        \n",
    "    specs = pd.DataFrame(specs,columns=columns)\n",
    "    return specs    \n",
    "    "
   ]
  },
  {
   "cell_type": "code",
   "execution_count": 35,
   "id": "110b0a1c",
   "metadata": {},
   "outputs": [
    {
     "data": {
      "text/plain": [
       "Text(0, 0.5, 'absorbtion')"
      ]
     },
     "execution_count": 35,
     "metadata": {},
     "output_type": "execute_result"
    },
    {
     "data": {
      "image/png": "[encoded data removed]",
      "text/plain": [
       "<Figure size 432x288 with 1 Axes>"
      ]
     },
     "metadata": {
      "needs_background": "light"
     },
     "output_type": "display_data"
    }
   ],
   "source": [
    "specs_noised = addnoise3(specs.copy(deep=True),20)\n",
    "sample = specs_noised.iloc[0]\n",
    "sample.plot()\n",
    "plt.xlabel('wavelengths')\n",
    "plt.ylabel('absorbtion')"
   ]
  },
  {
   "cell_type": "markdown",
   "id": "1a9f5c2f",
   "metadata": {},
   "source": [
    "### smoothing:"
   ]
  },
  {
   "cell_type": "markdown",
   "id": "26ac5ce9",
   "metadata": {},
   "source": [
    "here we will create a nippy pipe line which contains only the smoothing function with filteration window=35\n",
    "\n",
    "we can do that by creating the 'test.ini' file as follows:\n",
    "\n",
    "[SMOOTH]\n",
    "\n",
    "\n",
    "    filter_win = 5\n",
    "    window_type = hamming"
   ]
  },
  {
   "cell_type": "markdown",
   "id": "3e3cf17b",
   "metadata": {},
   "source": [
    "the smoothing function works by swaping the spectra with  a filter using convolution\n",
    "the filter_win parameter controls the window size of the filter\n",
    "the window size should vary depending on the both the resolution of the spectra and the standard deviation of the noise added\n",
    "\n",
    "for the resolution of this data and the standard dev =[0.001-0.1] the windoe of [15-35] should work fine"
   ]
  },
  {
   "cell_type": "markdown",
   "id": "7982be26",
   "metadata": {},
   "source": [
    "the window_type is the type of the window which is convoluted to the spectra but we found hamming filter to be working fine"
   ]
  },
  {
   "cell_type": "code",
   "execution_count": 36,
   "id": "dce035f0",
   "metadata": {},
   "outputs": [
    {
     "name": "stdout",
     "output_type": "stream",
     "text": [
      "Running pipe 1:\n",
      "{'SMOOTH': {'filter_win': 5, 'window_type': 'hamming'}}\n",
      "\n"
     ]
    }
   ],
   "source": [
    "# 1. Load configuration\n",
    "pipelines = nippy.read_configuration('conf1.ini')\n",
    "\n",
    "# 2. Load data\n",
    "data = specs_noised.to_numpy()\n",
    "wavelength = [int(wav) for wav in specs_noised.columns]\n",
    "wavelength = np.array(wavelength)\n",
    "spectra = data[:, :].T  # Rows = wavelength, Columns = samples \n",
    "\n",
    "# 3. Dataset through all pipelines\n",
    "datasets = nippy.nippy(wavelength, spectra, pipelines)\n",
    "\n",
    "# 4. Export the preprocessed data (showcasing three variants)\n",
    "nippy.export_pipelines_to_csv('D:\\Gradution project\\datasets\\corn\\preprocessed_data', datasets, pipelines, mkdir=True)"
   ]
  },
  {
   "cell_type": "markdown",
   "id": "267e5326",
   "metadata": {},
   "source": [
    "this will generate csv file of the filtered data in the specified loctaion\n",
    "\n",
    "now lets plot the data after filteration"
   ]
  },
  {
   "cell_type": "code",
   "execution_count": 46,
   "id": "788ff47f",
   "metadata": {},
   "outputs": [
    {
     "data": {
      "text/plain": [
       "Text(0, 0.5, 'absorbtion')"
      ]
     },
     "execution_count": 46,
     "metadata": {},
     "output_type": "execute_result"
    },
    {
     "data": {
      "image/png": "[encoded data removed]",
      "text/plain": [
       "<Figure size 432x288 with 1 Axes>"
      ]
     },
     "metadata": {
      "needs_background": "light"
     },
     "output_type": "display_data"
    }
   ],
   "source": [
    "specs_filtered = pd.read_csv('D:\\Gradution project\\datasets\\corn\\preprocessed_data\\p1.csv',header=None)\n",
    "specs_filtered = specs_filtered.drop(0,axis=1).T\n",
    "#specs_filtered.columns = [str(i) for i in range(1104,2497,12)]\n",
    "sample = specs_filtered.iloc[0]\n",
    "sample.plot()\n",
    "plt.xlabel('wavelengths')\n",
    "plt.ylabel('absorbtion')"
   ]
  },
  {
   "cell_type": "markdown",
   "id": "d3adc372",
   "metadata": {},
   "source": [
    "as we can see the data is smooth but its still not quite look like the master"
   ]
  },
  {
   "cell_type": "markdown",
   "id": "c5aab777",
   "metadata": {},
   "source": [
    "### Baseline removal:"
   ]
  },
  {
   "cell_type": "markdown",
   "id": "5ecb0a68",
   "metadata": {},
   "source": [
    "now we can remove the baseline shifts in the data using peakutils package\n",
    "\n",
    "here we can use this function which fits a polynomial of the the order we decide to the local minima of the spectrum , then we can simply subtract this base line from the spectrum "
   ]
  },
  {
   "cell_type": "code",
   "execution_count": 47,
   "id": "4d92c486",
   "metadata": {},
   "outputs": [],
   "source": [
    "def remove_baseline(spectra,fit_order):\n",
    "    base = peakutils.baseline(spectra.iloc[0], fit_order)\n",
    "    for i in range(spectra.shape[0]):\n",
    "        spectra.iloc[i] = spectra.iloc[i] - base\n",
    "    \n",
    "    return spectra"
   ]
  },
  {
   "cell_type": "code",
   "execution_count": 48,
   "id": "c7d452f7",
   "metadata": {},
   "outputs": [
    {
     "data": {
      "text/plain": [
       "<AxesSubplot:>"
      ]
     },
     "execution_count": 48,
     "metadata": {},
     "output_type": "execute_result"
    },
    {
     "data": {
      "image/png": "[encoded data removed]",
      "text/plain": [
       "<Figure size 432x288 with 1 Axes>"
      ]
     },
     "metadata": {
      "needs_background": "light"
     },
     "output_type": "display_data"
    }
   ],
   "source": [
    "slave = remove_baseline(specs_filtered,4)\n",
    "slave.iloc[0].plot(color=\"green\")"
   ]
  },
  {
   "cell_type": "markdown",
   "id": "0bf8d863",
   "metadata": {},
   "source": [
    "so this the data after the baseline removal "
   ]
  },
  {
   "cell_type": "markdown",
   "id": "82413b4d",
   "metadata": {},
   "source": [
    "# Standard Free Calipration:"
   ]
  },
  {
   "cell_type": "markdown",
   "id": "215dc503",
   "metadata": {},
   "source": [
    "the standard free calibration methods means that we dont have the same samples on both insturment so we cant crete a model to\n",
    "\n",
    "map between the two insturments spectra, so what we can do is try the previous preprocessing methods to make the slave spectra \n",
    "\n",
    "look more like the master"
   ]
  },
  {
   "cell_type": "markdown",
   "id": "1ddfbe91",
   "metadata": {},
   "source": [
    "we will now try to create the slave spectra by adding noise and  a baseline shift:"
   ]
  },
  {
   "cell_type": "code",
   "execution_count": 56,
   "id": "8bbe714e",
   "metadata": {},
   "outputs": [
    {
     "data": {
      "text/plain": [
       "Text(0, 0.5, 'absorbtion')"
      ]
     },
     "execution_count": 56,
     "metadata": {},
     "output_type": "execute_result"
    },
    {
     "data": {
      "image/png": "[encoded data removed]",
      "text/plain": [
       "<Figure size 432x288 with 1 Axes>"
      ]
     },
     "metadata": {
      "needs_background": "light"
     },
     "output_type": "display_data"
    }
   ],
   "source": [
    "slave = addnoise3(specs.copy(deep=True),20)\n",
    "sample = slave.iloc[0]\n",
    "sample.plot()\n",
    "plt.xlabel('wavelengths')\n",
    "plt.ylabel('absorbtion')"
   ]
  },
  {
   "cell_type": "markdown",
   "id": "a4383805",
   "metadata": {},
   "source": [
    "#### now we will resample the spectra to reduce the slave resolution to 10% of the master"
   ]
  },
  {
   "cell_type": "markdown",
   "id": "bc873b8c",
   "metadata": {},
   "source": [
    "#### Now will try to remove those effects from the slave so it looks more like the master"
   ]
  },
  {
   "cell_type": "markdown",
   "id": "22bee347",
   "metadata": {},
   "source": [
    "First we will apply smoothing function to smooth out the noise  "
   ]
  },
  {
   "cell_type": "code",
   "execution_count": 57,
   "id": "04ccb62b",
   "metadata": {},
   "outputs": [
    {
     "name": "stdout",
     "output_type": "stream",
     "text": [
      "Running pipe 1:\n",
      "{'SMOOTH': {'filter_win': 5, 'window_type': 'hamming'}}\n",
      "\n"
     ]
    }
   ],
   "source": [
    "# 1. Load configuration\n",
    "pipelines = nippy.read_configuration('conf1.ini')\n",
    "\n",
    "# 2. Load data\n",
    "data = slave.to_numpy()\n",
    "wavelength = data[0, :]\n",
    "spectra = data[:, :].T  # Rows = wavelength, Columns = samples \n",
    "\n",
    "# 3. Dataset through all pipelines\n",
    "datasets = nippy.nippy(wavelength, spectra, pipelines)\n",
    "\n",
    "# 4. Export the preprocessed data (showcasing three variants)\n",
    "nippy.export_pipelines_to_csv('D:\\Gradution project\\datasets\\corn\\preprocessed_data', datasets, pipelines, mkdir=True)"
   ]
  },
  {
   "cell_type": "markdown",
   "id": "314c1a79",
   "metadata": {},
   "source": [
    "Notice: we reduced the filter window size because we reduced our resolution\n",
    "\n",
    "\n",
    "NOW lets plot the filtered spectra:"
   ]
  },
  {
   "cell_type": "code",
   "execution_count": 58,
   "id": "be8b2ae2",
   "metadata": {},
   "outputs": [
    {
     "ename": "ValueError",
     "evalue": "Length mismatch: Expected axis has 117 elements, new values have 70 elements",
     "output_type": "error",
     "traceback": [
      "\u001b[1;31m---------------------------------------------------------------------------\u001b[0m",
      "\u001b[1;31mValueError\u001b[0m                                Traceback (most recent call last)",
      "\u001b[1;32m<ipython-input-58-0cf9017bb61f>\u001b[0m in \u001b[0;36m<module>\u001b[1;34m\u001b[0m\n\u001b[0;32m      1\u001b[0m \u001b[0mslave\u001b[0m \u001b[1;33m=\u001b[0m \u001b[0mpd\u001b[0m\u001b[1;33m.\u001b[0m\u001b[0mread_csv\u001b[0m\u001b[1;33m(\u001b[0m\u001b[1;34m'D:\\Gradution project\\datasets\\corn\\preprocessed_data\\p1.csv'\u001b[0m\u001b[1;33m,\u001b[0m\u001b[0mheader\u001b[0m\u001b[1;33m=\u001b[0m\u001b[1;32mNone\u001b[0m\u001b[1;33m)\u001b[0m\u001b[1;33m\u001b[0m\u001b[1;33m\u001b[0m\u001b[0m\n\u001b[0;32m      2\u001b[0m \u001b[0mslave\u001b[0m \u001b[1;33m=\u001b[0m \u001b[0mslave\u001b[0m\u001b[1;33m.\u001b[0m\u001b[0mdrop\u001b[0m\u001b[1;33m(\u001b[0m\u001b[1;36m0\u001b[0m\u001b[1;33m,\u001b[0m\u001b[0maxis\u001b[0m\u001b[1;33m=\u001b[0m\u001b[1;36m1\u001b[0m\u001b[1;33m)\u001b[0m\u001b[1;33m.\u001b[0m\u001b[0mT\u001b[0m\u001b[1;33m\u001b[0m\u001b[1;33m\u001b[0m\u001b[0m\n\u001b[1;32m----> 3\u001b[1;33m \u001b[0mslave\u001b[0m\u001b[1;33m.\u001b[0m\u001b[0mcolumns\u001b[0m \u001b[1;33m=\u001b[0m \u001b[1;33m[\u001b[0m\u001b[0mstr\u001b[0m\u001b[1;33m(\u001b[0m\u001b[0mint\u001b[0m\u001b[1;33m(\u001b[0m\u001b[0mi\u001b[0m\u001b[1;33m)\u001b[0m\u001b[1;33m)\u001b[0m \u001b[1;32mfor\u001b[0m \u001b[0mi\u001b[0m \u001b[1;32min\u001b[0m \u001b[0mwav\u001b[0m\u001b[1;33m]\u001b[0m\u001b[1;33m\u001b[0m\u001b[1;33m\u001b[0m\u001b[0m\n\u001b[0m\u001b[0;32m      4\u001b[0m \u001b[0msample\u001b[0m \u001b[1;33m=\u001b[0m \u001b[0mslave\u001b[0m\u001b[1;33m.\u001b[0m\u001b[0miloc\u001b[0m\u001b[1;33m[\u001b[0m\u001b[1;36m0\u001b[0m\u001b[1;33m]\u001b[0m\u001b[1;33m\u001b[0m\u001b[1;33m\u001b[0m\u001b[0m\n\u001b[0;32m      5\u001b[0m \u001b[0msample\u001b[0m\u001b[1;33m.\u001b[0m\u001b[0mplot\u001b[0m\u001b[1;33m(\u001b[0m\u001b[1;33m)\u001b[0m\u001b[1;33m\u001b[0m\u001b[1;33m\u001b[0m\u001b[0m\n",
      "\u001b[1;32m~\\anaconda3\\lib\\site-packages\\pandas\\core\\generic.py\u001b[0m in \u001b[0;36m__setattr__\u001b[1;34m(self, name, value)\u001b[0m\n\u001b[0;32m   5150\u001b[0m         \u001b[1;32mtry\u001b[0m\u001b[1;33m:\u001b[0m\u001b[1;33m\u001b[0m\u001b[1;33m\u001b[0m\u001b[0m\n\u001b[0;32m   5151\u001b[0m             \u001b[0mobject\u001b[0m\u001b[1;33m.\u001b[0m\u001b[0m__getattribute__\u001b[0m\u001b[1;33m(\u001b[0m\u001b[0mself\u001b[0m\u001b[1;33m,\u001b[0m \u001b[0mname\u001b[0m\u001b[1;33m)\u001b[0m\u001b[1;33m\u001b[0m\u001b[1;33m\u001b[0m\u001b[0m\n\u001b[1;32m-> 5152\u001b[1;33m             \u001b[1;32mreturn\u001b[0m \u001b[0mobject\u001b[0m\u001b[1;33m.\u001b[0m\u001b[0m__setattr__\u001b[0m\u001b[1;33m(\u001b[0m\u001b[0mself\u001b[0m\u001b[1;33m,\u001b[0m \u001b[0mname\u001b[0m\u001b[1;33m,\u001b[0m \u001b[0mvalue\u001b[0m\u001b[1;33m)\u001b[0m\u001b[1;33m\u001b[0m\u001b[1;33m\u001b[0m\u001b[0m\n\u001b[0m\u001b[0;32m   5153\u001b[0m         \u001b[1;32mexcept\u001b[0m \u001b[0mAttributeError\u001b[0m\u001b[1;33m:\u001b[0m\u001b[1;33m\u001b[0m\u001b[1;33m\u001b[0m\u001b[0m\n\u001b[0;32m   5154\u001b[0m             \u001b[1;32mpass\u001b[0m\u001b[1;33m\u001b[0m\u001b[1;33m\u001b[0m\u001b[0m\n",
      "\u001b[1;32mpandas\\_libs\\properties.pyx\u001b[0m in \u001b[0;36mpandas._libs.properties.AxisProperty.__set__\u001b[1;34m()\u001b[0m\n",
      "\u001b[1;32m~\\anaconda3\\lib\\site-packages\\pandas\\core\\generic.py\u001b[0m in \u001b[0;36m_set_axis\u001b[1;34m(self, axis, labels)\u001b[0m\n\u001b[0;32m    562\u001b[0m     \u001b[1;32mdef\u001b[0m \u001b[0m_set_axis\u001b[0m\u001b[1;33m(\u001b[0m\u001b[0mself\u001b[0m\u001b[1;33m,\u001b[0m \u001b[0maxis\u001b[0m\u001b[1;33m:\u001b[0m \u001b[0mint\u001b[0m\u001b[1;33m,\u001b[0m \u001b[0mlabels\u001b[0m\u001b[1;33m:\u001b[0m \u001b[0mIndex\u001b[0m\u001b[1;33m)\u001b[0m \u001b[1;33m->\u001b[0m \u001b[1;32mNone\u001b[0m\u001b[1;33m:\u001b[0m\u001b[1;33m\u001b[0m\u001b[1;33m\u001b[0m\u001b[0m\n\u001b[0;32m    563\u001b[0m         \u001b[0mlabels\u001b[0m \u001b[1;33m=\u001b[0m \u001b[0mensure_index\u001b[0m\u001b[1;33m(\u001b[0m\u001b[0mlabels\u001b[0m\u001b[1;33m)\u001b[0m\u001b[1;33m\u001b[0m\u001b[1;33m\u001b[0m\u001b[0m\n\u001b[1;32m--> 564\u001b[1;33m         \u001b[0mself\u001b[0m\u001b[1;33m.\u001b[0m\u001b[0m_mgr\u001b[0m\u001b[1;33m.\u001b[0m\u001b[0mset_axis\u001b[0m\u001b[1;33m(\u001b[0m\u001b[0maxis\u001b[0m\u001b[1;33m,\u001b[0m \u001b[0mlabels\u001b[0m\u001b[1;33m)\u001b[0m\u001b[1;33m\u001b[0m\u001b[1;33m\u001b[0m\u001b[0m\n\u001b[0m\u001b[0;32m    565\u001b[0m         \u001b[0mself\u001b[0m\u001b[1;33m.\u001b[0m\u001b[0m_clear_item_cache\u001b[0m\u001b[1;33m(\u001b[0m\u001b[1;33m)\u001b[0m\u001b[1;33m\u001b[0m\u001b[1;33m\u001b[0m\u001b[0m\n\u001b[0;32m    566\u001b[0m \u001b[1;33m\u001b[0m\u001b[0m\n",
      "\u001b[1;32m~\\anaconda3\\lib\\site-packages\\pandas\\core\\internals\\managers.py\u001b[0m in \u001b[0;36mset_axis\u001b[1;34m(self, axis, new_labels)\u001b[0m\n\u001b[0;32m    224\u001b[0m \u001b[1;33m\u001b[0m\u001b[0m\n\u001b[0;32m    225\u001b[0m         \u001b[1;32mif\u001b[0m \u001b[0mnew_len\u001b[0m \u001b[1;33m!=\u001b[0m \u001b[0mold_len\u001b[0m\u001b[1;33m:\u001b[0m\u001b[1;33m\u001b[0m\u001b[1;33m\u001b[0m\u001b[0m\n\u001b[1;32m--> 226\u001b[1;33m             raise ValueError(\n\u001b[0m\u001b[0;32m    227\u001b[0m                 \u001b[1;34mf\"Length mismatch: Expected axis has {old_len} elements, new \"\u001b[0m\u001b[1;33m\u001b[0m\u001b[1;33m\u001b[0m\u001b[0m\n\u001b[0;32m    228\u001b[0m                 \u001b[1;34mf\"values have {new_len} elements\"\u001b[0m\u001b[1;33m\u001b[0m\u001b[1;33m\u001b[0m\u001b[0m\n",
      "\u001b[1;31mValueError\u001b[0m: Length mismatch: Expected axis has 117 elements, new values have 70 elements"
     ]
    }
   ],
   "source": [
    "slave = pd.read_csv('D:\\Gradution project\\datasets\\corn\\preprocessed_data\\p1.csv',header=None)\n",
    "slave = slave.drop(0,axis=1).T\n",
    "slave.columns = [str(int(i)) for i in wav]\n",
    "sample = slave.iloc[0]\n",
    "sample.plot()\n",
    "plt.xlabel('wavelengths')\n",
    "plt.ylabel('absorbtion')"
   ]
  },
  {
   "cell_type": "markdown",
   "id": "3aba92c9",
   "metadata": {},
   "source": [
    "##### the next step is to remove the base line from the slave spectra"
   ]
  },
  {
   "cell_type": "code",
   "execution_count": 54,
   "id": "cd86e516",
   "metadata": {},
   "outputs": [
    {
     "data": {
      "text/plain": [
       "<AxesSubplot:>"
      ]
     },
     "execution_count": 54,
     "metadata": {},
     "output_type": "execute_result"
    },
    {
     "data": {
      "image/png": "[encoded data removed]",
      "text/plain": [
       "<Figure size 432x288 with 1 Axes>"
      ]
     },
     "metadata": {
      "needs_background": "light"
     },
     "output_type": "display_data"
    }
   ],
   "source": [
    "slave = remove_baseline(slave,2)\n",
    "slave.iloc[1].plot(color=\"green\")"
   ]
  },
  {
   "cell_type": "markdown",
   "id": "0c677dbe",
   "metadata": {},
   "source": [
    "here we removes all the baseline shifts from the spectra , but  now we need to add the base line of the original data so that the slave looks more like the master"
   ]
  },
  {
   "cell_type": "code",
   "execution_count": 55,
   "id": "6e0b95fe",
   "metadata": {},
   "outputs": [
    {
     "ename": "NameError",
     "evalue": "name 'step' is not defined",
     "output_type": "error",
     "traceback": [
      "\u001b[1;31m---------------------------------------------------------------------------\u001b[0m",
      "\u001b[1;31mNameError\u001b[0m                                 Traceback (most recent call last)",
      "\u001b[1;32m<ipython-input-55-1faa6e7222f4>\u001b[0m in \u001b[0;36m<module>\u001b[1;34m\u001b[0m\n\u001b[0;32m      1\u001b[0m \u001b[0moriginal_base\u001b[0m \u001b[1;33m=\u001b[0m \u001b[0mpeakutils\u001b[0m\u001b[1;33m.\u001b[0m\u001b[0mbaseline\u001b[0m\u001b[1;33m(\u001b[0m\u001b[0mspecs\u001b[0m\u001b[1;33m.\u001b[0m\u001b[0miloc\u001b[0m\u001b[1;33m[\u001b[0m\u001b[1;36m0\u001b[0m\u001b[1;33m]\u001b[0m\u001b[1;33m,\u001b[0m \u001b[1;36m4\u001b[0m\u001b[1;33m)\u001b[0m\u001b[1;33m\u001b[0m\u001b[1;33m\u001b[0m\u001b[0m\n\u001b[0;32m      2\u001b[0m \u001b[0mbase\u001b[0m \u001b[1;33m=\u001b[0m \u001b[1;33m[\u001b[0m\u001b[1;33m]\u001b[0m\u001b[1;33m\u001b[0m\u001b[1;33m\u001b[0m\u001b[0m\n\u001b[1;32m----> 3\u001b[1;33m \u001b[1;32mfor\u001b[0m \u001b[0msample\u001b[0m \u001b[1;32min\u001b[0m \u001b[0mrange\u001b[0m\u001b[1;33m(\u001b[0m\u001b[1;36m0\u001b[0m\u001b[1;33m,\u001b[0m\u001b[0mlen\u001b[0m\u001b[1;33m(\u001b[0m\u001b[0moriginal_base\u001b[0m\u001b[1;33m)\u001b[0m\u001b[1;33m,\u001b[0m\u001b[0mstep\u001b[0m\u001b[1;33m)\u001b[0m\u001b[1;33m:\u001b[0m\u001b[1;33m\u001b[0m\u001b[1;33m\u001b[0m\u001b[0m\n\u001b[0m\u001b[0;32m      4\u001b[0m     \u001b[0mbase\u001b[0m\u001b[1;33m.\u001b[0m\u001b[0mappend\u001b[0m\u001b[1;33m(\u001b[0m\u001b[0moriginal_base\u001b[0m\u001b[1;33m[\u001b[0m\u001b[0msample\u001b[0m\u001b[1;33m]\u001b[0m\u001b[1;33m)\u001b[0m\u001b[1;33m\u001b[0m\u001b[1;33m\u001b[0m\u001b[0m\n\u001b[0;32m      5\u001b[0m \u001b[0mbase\u001b[0m \u001b[1;33m=\u001b[0m \u001b[0mnp\u001b[0m\u001b[1;33m.\u001b[0m\u001b[0marray\u001b[0m\u001b[1;33m(\u001b[0m\u001b[0mbase\u001b[0m\u001b[1;33m)\u001b[0m\u001b[1;33m\u001b[0m\u001b[1;33m\u001b[0m\u001b[0m\n",
      "\u001b[1;31mNameError\u001b[0m: name 'step' is not defined"
     ]
    }
   ],
   "source": [
    "original_base = peakutils.baseline(specs.iloc[0], 4)\n",
    "base = []\n",
    "for sample in range(0,len(original_base),step):\n",
    "    base.append(original_base[sample])\n",
    "base = np.array(base)\n",
    "    \n",
    "for i in range(slave.shape[0]):\n",
    "        slave.iloc[i] = slave.iloc[i] + base\n",
    "        \n",
    "slave.iloc[0].plot(color=\"green\")"
   ]
  },
  {
   "cell_type": "markdown",
   "id": "82bbc727",
   "metadata": {},
   "source": [
    "lets plot the master data to compare"
   ]
  },
  {
   "cell_type": "code",
   "execution_count": 87,
   "id": "a844f0ac",
   "metadata": {},
   "outputs": [
    {
     "data": {
      "text/plain": [
       "<AxesSubplot:>"
      ]
     },
     "execution_count": 87,
     "metadata": {},
     "output_type": "execute_result"
    },
    {
     "data": {
      "image/png": "[encoded data removed]",
      "text/plain": [
       "<Figure size 432x288 with 1 Axes>"
      ]
     },
     "metadata": {
      "needs_background": "light"
     },
     "output_type": "display_data"
    }
   ],
   "source": [
    "specs.iloc[0].plot(color=\"blue\")"
   ]
  },
  {
   "cell_type": "markdown",
   "id": "fec9d806",
   "metadata": {},
   "source": [
    "as we can see the slave some how looks like the master data"
   ]
  },
  {
   "cell_type": "markdown",
   "id": "c3383a94",
   "metadata": {},
   "source": [
    "# Piece wise Direct standarization"
   ]
  },
  {
   "cell_type": "markdown",
   "id": "0721ccfd",
   "metadata": {},
   "source": [
    "here we implemented the PDS function to transfer from the slave to master spectra"
   ]
  },
  {
   "cell_type": "code",
   "execution_count": 88,
   "id": "f6ca181a",
   "metadata": {},
   "outputs": [],
   "source": [
    "def PDS(Master,Slave,Test,window_size,n_components):\n",
    "    \"\"\"\n",
    "    Arguments:\n",
    "    Master: Master Dataframe\n",
    "    Slave: Slave Dataframe\n",
    "    Test: Test Dataframe\n",
    "    window_size : Window Size used in PDS Algorithm\n",
    "    n_components : Number of Components used in PLS Algorithm\n",
    "    \n",
    "    Return: \n",
    "    Mapped_Output: The output dataframe after mapping slave to master\n",
    "    \"\"\"\n",
    "    wave_lengths= list(Slave.columns)\n",
    "    Mapped_Output = pd.DataFrame().reindex_like(Test)\n",
    "    \n",
    "    for i in range(window_size,Slave.shape[1]-window_size):\n",
    "        slave_subset= Slave.loc[:,wave_lengths[i-window_size:i+window_size+1]]\n",
    "        master_subset = Master.loc[:,wave_lengths[i]]\n",
    "        pls = PLSRegression(n_components)\n",
    "        pls.fit(slave_subset,master_subset)\n",
    "        test_subset = Test.loc[:,wave_lengths[i-window_size:i+window_size+1]]\n",
    "        Mapped_Output.loc[:,wave_lengths[i]] = pls.predict(test_subset)\n",
    "    return Mapped_Output"
   ]
  },
  {
   "cell_type": "code",
   "execution_count": 89,
   "id": "c381b9e6",
   "metadata": {},
   "outputs": [
    {
     "data": {
      "text/plain": [
       "Text(0, 0.5, 'absorbtion')"
      ]
     },
     "execution_count": 89,
     "metadata": {},
     "output_type": "execute_result"
    },
    {
     "data": {
      "image/png": "[encoded data removed]",
      "text/plain": [
       "<Figure size 432x288 with 1 Axes>"
      ]
     },
     "metadata": {
      "needs_background": "light"
     },
     "output_type": "display_data"
    }
   ],
   "source": [
    "slave = addnoise(specs.copy(deep=True),2e-2,[1,2e-2],[1e-1,1e-2])\n",
    "sample = slave.iloc[0]\n",
    "sample.plot()\n",
    "plt.xlabel('wavelengths')\n",
    "plt.ylabel('absorbtion')"
   ]
  },
  {
   "cell_type": "code",
   "execution_count": 90,
   "id": "c26d193a",
   "metadata": {},
   "outputs": [
    {
     "name": "stdout",
     "output_type": "stream",
     "text": [
      "Running pipe 1:\n",
      "{'SMOOTH': {'filter_win': 5, 'window_type': 'hamming'}}\n",
      "\n"
     ]
    },
    {
     "data": {
      "text/plain": [
       "<AxesSubplot:>"
      ]
     },
     "execution_count": 90,
     "metadata": {},
     "output_type": "execute_result"
    },
    {
     "data": {
      "image/png": "[encoded data removed]",
      "text/plain": [
       "<Figure size 432x288 with 1 Axes>"
      ]
     },
     "metadata": {
      "needs_background": "light"
     },
     "output_type": "display_data"
    }
   ],
   "source": [
    "\n",
    "# 1. Load configuration\n",
    "pipelines = nippy.read_configuration('conf1.ini')\n",
    "\n",
    "# 2. Load data\n",
    "data = slave.to_numpy()\n",
    "wavelength = data[0, :]\n",
    "spectra = data[:, :].T  # Rows = wavelength, Columns = samples \n",
    "\n",
    "# 3. Dataset through all pipelines\n",
    "datasets = nippy.nippy(wavelength, spectra, pipelines)\n",
    "\n",
    "# 4. Export the preprocessed data (showcasing three variants)\n",
    "nippy.export_pipelines_to_csv('D:\\Gradution project\\datasets\\corn\\preprocessed_data', datasets, pipelines, mkdir=True)\n",
    "\n",
    "slave = pd.read_csv('D:\\Gradution project\\datasets\\corn\\preprocessed_data\\p1.csv',header=None)\n",
    "slave = slave.drop(0,axis=1).T\n",
    "slave.columns = [str(i) for i in range(1104,2497,12)]\n",
    "\n",
    "slave = remove_baseline(slave,2)\n",
    "\n",
    "original_base = peakutils.baseline(specs.iloc[0], 4)\n",
    "base = []\n",
    "for sample in range(0,len(original_base)):\n",
    "    base.append(original_base[sample])\n",
    "base = np.array(base)\n",
    "    \n",
    "for i in range(slave.shape[0]):\n",
    "        slave.iloc[i] = slave.iloc[i] + base\n",
    "\n",
    "slave.iloc[0].plot(color=\"green\")\n",
    "\n"
   ]
  },
  {
   "cell_type": "code",
   "execution_count": 91,
   "id": "a13ddb80",
   "metadata": {},
   "outputs": [],
   "source": [
    "specs_train = specs[:200]\n",
    "slave_train = slave[:200]\n",
    "specs_test = specs[200:]\n",
    "slave_test = slave[200:]"
   ]
  },
  {
   "cell_type": "code",
   "execution_count": 92,
   "id": "2b805eec",
   "metadata": {},
   "outputs": [],
   "source": [
    "PDS_out = PDS(specs_train,slave_train,slave_test,4,3)"
   ]
  },
  {
   "cell_type": "markdown",
   "id": "274b6157",
   "metadata": {},
   "source": [
    "so now we will apply the PDS algorithm to transfer from this spectra to the master"
   ]
  },
  {
   "cell_type": "code",
   "execution_count": 93,
   "id": "829c7db0",
   "metadata": {},
   "outputs": [
    {
     "data": {
      "text/plain": [
       "<AxesSubplot:>"
      ]
     },
     "execution_count": 93,
     "metadata": {},
     "output_type": "execute_result"
    },
    {
     "data": {
      "image/png": "[encoded data removed]",
      "text/plain": [
       "<Figure size 432x288 with 1 Axes>"
      ]
     },
     "metadata": {
      "needs_background": "light"
     },
     "output_type": "display_data"
    }
   ],
   "source": [
    "PDS_out.iloc[0].plot(color=\"blue\") ## Output of PDS\n",
    "specs_test.iloc[0].plot(color=\"red\") ## Master"
   ]
  },
  {
   "cell_type": "markdown",
   "id": "46974b77",
   "metadata": {},
   "source": [
    "as we can see the predicted and the orginal data are almost identical which means that we successfully transfered from the slaver spectra to the master"
   ]
  },
  {
   "cell_type": "code",
   "execution_count": null,
   "id": "108e5274",
   "metadata": {},
   "outputs": [],
   "source": []
  },
  {
   "cell_type": "code",
   "execution_count": null,
   "id": "d2f02c9e",
   "metadata": {},
   "outputs": [],
   "source": []
  }
 ],
 "metadata": {
  "kernelspec": {
   "display_name": "Python 3",
   "language": "python",
   "name": "python3"
  },
  "language_info": {
   "codemirror_mode": {
    "name": "ipython",
    "version": 3
   },
   "file_extension": ".py",
   "mimetype": "text/x-python",
   "name": "python",
   "nbconvert_exporter": "python",
   "pygments_lexer": "ipython3",
   "version": "3.8.10"
  }
 },
 "nbformat": 4,
 "nbformat_minor": 5
}
